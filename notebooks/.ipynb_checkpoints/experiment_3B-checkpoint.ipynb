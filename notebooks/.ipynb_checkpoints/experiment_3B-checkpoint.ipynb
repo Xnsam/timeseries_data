{
 "cells": [
  {
   "cell_type": "code",
   "execution_count": 1,
   "metadata": {
    "id": "fpkf0z1tXcZj"
   },
   "outputs": [],
   "source": [
    "import pandas as pd\n",
    "import numpy as np\n",
    "import matplotlib.pyplot as plt\n",
    "\n",
    "from sklearn.linear_model import LinearRegression\n",
    "from sklearn.ensemble import RandomForestRegressor\n",
    "from skforecast.model_selection import backtesting_forecaster\n",
    "from skforecast.ForecasterAutoreg import ForecasterAutoreg\n",
    "\n",
    "import plotly\n",
    "import plotly.graph_objects as go\n",
    "\n",
    "\n",
    "from astral import LocationInfo\n",
    "from astral.sun import sun\n"
   ]
  },
  {
   "cell_type": "code",
   "execution_count": 2,
   "metadata": {
    "id": "koWse94rX8JI"
   },
   "outputs": [],
   "source": [
    "from custom_utils import *"
   ]
  },
  {
   "cell_type": "code",
   "execution_count": 5,
   "metadata": {
    "colab": {
     "base_uri": "https://localhost:8080/",
     "height": 374
    },
    "id": "oPZWFjPfXddT",
    "outputId": "3563b52d-df16-4337-8a8c-6aacd4a4dd9c"
   },
   "outputs": [
    {
     "name": "stderr",
     "output_type": "stream",
     "text": [
      "D:\\RA_work\\timeseries_data\\notebooks\\custom_utils.py:157: FutureWarning: 'H' is deprecated and will be removed in a future version, please use 'h' instead.\n",
      "  data = data.asfreq(\"H\")\n",
      "D:\\RA_work\\timeseries_data\\notebooks\\custom_utils.py:83: FutureWarning: Series.interpolate with object dtype is deprecated and will raise in a future version. Call obj.infer_objects(copy=False) before interpolating instead.\n",
      "  data[column] = data[column].interpolate(method=\"linear\", limit_direction=\"both\")\n"
     ]
    },
    {
     "data": {
      "text/html": [
       "<div>\n",
       "<style scoped>\n",
       "    .dataframe tbody tr th:only-of-type {\n",
       "        vertical-align: middle;\n",
       "    }\n",
       "\n",
       "    .dataframe tbody tr th {\n",
       "        vertical-align: top;\n",
       "    }\n",
       "\n",
       "    .dataframe thead th {\n",
       "        text-align: right;\n",
       "    }\n",
       "</style>\n",
       "<table border=\"1\" class=\"dataframe\">\n",
       "  <thead>\n",
       "    <tr style=\"text-align: right;\">\n",
       "      <th></th>\n",
       "      <th>space_heating</th>\n",
       "      <th>hot_water</th>\n",
       "      <th>sockets</th>\n",
       "      <th>lighting</th>\n",
       "      <th>bld_engcons</th>\n",
       "      <th>car_chargers</th>\n",
       "      <th>weekend</th>\n",
       "      <th>bank_holiday</th>\n",
       "      <th>day_of_month</th>\n",
       "      <th>year</th>\n",
       "      <th>...</th>\n",
       "      <th>sine_month</th>\n",
       "      <th>cos_month</th>\n",
       "      <th>sine_day_of_week</th>\n",
       "      <th>cos_day_of_week</th>\n",
       "      <th>sine_forecast_winddirection</th>\n",
       "      <th>cos_forecast_winddirection</th>\n",
       "      <th>sine_sunrise_hour</th>\n",
       "      <th>cos_sunrise_hour</th>\n",
       "      <th>sine_sunset_hour</th>\n",
       "      <th>cos_sunset_hour</th>\n",
       "    </tr>\n",
       "    <tr>\n",
       "      <th>datetime</th>\n",
       "      <th></th>\n",
       "      <th></th>\n",
       "      <th></th>\n",
       "      <th></th>\n",
       "      <th></th>\n",
       "      <th></th>\n",
       "      <th></th>\n",
       "      <th></th>\n",
       "      <th></th>\n",
       "      <th></th>\n",
       "      <th></th>\n",
       "      <th></th>\n",
       "      <th></th>\n",
       "      <th></th>\n",
       "      <th></th>\n",
       "      <th></th>\n",
       "      <th></th>\n",
       "      <th></th>\n",
       "      <th></th>\n",
       "      <th></th>\n",
       "      <th></th>\n",
       "    </tr>\n",
       "  </thead>\n",
       "  <tbody>\n",
       "    <tr>\n",
       "      <th>2021-01-01 00:00:00+00:00</th>\n",
       "      <td>3.425193</td>\n",
       "      <td>0.000000</td>\n",
       "      <td>0.049433</td>\n",
       "      <td>0.154873</td>\n",
       "      <td>3.629499</td>\n",
       "      <td>0.0</td>\n",
       "      <td>0</td>\n",
       "      <td>1</td>\n",
       "      <td>1</td>\n",
       "      <td>2021</td>\n",
       "      <td>...</td>\n",
       "      <td>0.5</td>\n",
       "      <td>0.866025</td>\n",
       "      <td>-0.974928</td>\n",
       "      <td>-0.222521</td>\n",
       "      <td>0.000000</td>\n",
       "      <td>1.00000</td>\n",
       "      <td>0.866025</td>\n",
       "      <td>-0.5</td>\n",
       "      <td>0.866025</td>\n",
       "      <td>-0.5</td>\n",
       "    </tr>\n",
       "    <tr>\n",
       "      <th>2021-01-01 01:00:00+00:00</th>\n",
       "      <td>4.012907</td>\n",
       "      <td>0.000000</td>\n",
       "      <td>0.047753</td>\n",
       "      <td>0.154846</td>\n",
       "      <td>4.215506</td>\n",
       "      <td>0.0</td>\n",
       "      <td>0</td>\n",
       "      <td>1</td>\n",
       "      <td>1</td>\n",
       "      <td>2021</td>\n",
       "      <td>...</td>\n",
       "      <td>0.5</td>\n",
       "      <td>0.866025</td>\n",
       "      <td>-0.974928</td>\n",
       "      <td>-0.222521</td>\n",
       "      <td>0.000000</td>\n",
       "      <td>1.00000</td>\n",
       "      <td>0.866025</td>\n",
       "      <td>-0.5</td>\n",
       "      <td>0.866025</td>\n",
       "      <td>-0.5</td>\n",
       "    </tr>\n",
       "    <tr>\n",
       "      <th>2021-01-01 02:00:00+00:00</th>\n",
       "      <td>5.342417</td>\n",
       "      <td>0.444782</td>\n",
       "      <td>0.051869</td>\n",
       "      <td>0.154997</td>\n",
       "      <td>5.994066</td>\n",
       "      <td>0.0</td>\n",
       "      <td>0</td>\n",
       "      <td>1</td>\n",
       "      <td>1</td>\n",
       "      <td>2021</td>\n",
       "      <td>...</td>\n",
       "      <td>0.5</td>\n",
       "      <td>0.866025</td>\n",
       "      <td>-0.974928</td>\n",
       "      <td>-0.222521</td>\n",
       "      <td>0.000000</td>\n",
       "      <td>1.00000</td>\n",
       "      <td>0.866025</td>\n",
       "      <td>-0.5</td>\n",
       "      <td>0.866025</td>\n",
       "      <td>-0.5</td>\n",
       "    </tr>\n",
       "    <tr>\n",
       "      <th>2021-01-01 03:00:00+00:00</th>\n",
       "      <td>5.756598</td>\n",
       "      <td>0.000000</td>\n",
       "      <td>0.043028</td>\n",
       "      <td>0.154626</td>\n",
       "      <td>5.954252</td>\n",
       "      <td>0.0</td>\n",
       "      <td>0</td>\n",
       "      <td>1</td>\n",
       "      <td>1</td>\n",
       "      <td>2021</td>\n",
       "      <td>...</td>\n",
       "      <td>0.5</td>\n",
       "      <td>0.866025</td>\n",
       "      <td>-0.974928</td>\n",
       "      <td>-0.222521</td>\n",
       "      <td>-0.382683</td>\n",
       "      <td>0.92388</td>\n",
       "      <td>0.866025</td>\n",
       "      <td>-0.5</td>\n",
       "      <td>0.866025</td>\n",
       "      <td>-0.5</td>\n",
       "    </tr>\n",
       "    <tr>\n",
       "      <th>2021-01-01 04:00:00+00:00</th>\n",
       "      <td>5.415492</td>\n",
       "      <td>0.000000</td>\n",
       "      <td>0.050306</td>\n",
       "      <td>0.154498</td>\n",
       "      <td>5.620296</td>\n",
       "      <td>0.0</td>\n",
       "      <td>0</td>\n",
       "      <td>1</td>\n",
       "      <td>1</td>\n",
       "      <td>2021</td>\n",
       "      <td>...</td>\n",
       "      <td>0.5</td>\n",
       "      <td>0.866025</td>\n",
       "      <td>-0.974928</td>\n",
       "      <td>-0.222521</td>\n",
       "      <td>-0.382683</td>\n",
       "      <td>0.92388</td>\n",
       "      <td>0.866025</td>\n",
       "      <td>-0.5</td>\n",
       "      <td>0.866025</td>\n",
       "      <td>-0.5</td>\n",
       "    </tr>\n",
       "  </tbody>\n",
       "</table>\n",
       "<p>5 rows × 32 columns</p>\n",
       "</div>"
      ],
      "text/plain": [
       "                           space_heating  hot_water   sockets  lighting  \\\n",
       "datetime                                                                  \n",
       "2021-01-01 00:00:00+00:00       3.425193   0.000000  0.049433  0.154873   \n",
       "2021-01-01 01:00:00+00:00       4.012907   0.000000  0.047753  0.154846   \n",
       "2021-01-01 02:00:00+00:00       5.342417   0.444782  0.051869  0.154997   \n",
       "2021-01-01 03:00:00+00:00       5.756598   0.000000  0.043028  0.154626   \n",
       "2021-01-01 04:00:00+00:00       5.415492   0.000000  0.050306  0.154498   \n",
       "\n",
       "                           bld_engcons  car_chargers  weekend  bank_holiday  \\\n",
       "datetime                                                                      \n",
       "2021-01-01 00:00:00+00:00     3.629499           0.0        0             1   \n",
       "2021-01-01 01:00:00+00:00     4.215506           0.0        0             1   \n",
       "2021-01-01 02:00:00+00:00     5.994066           0.0        0             1   \n",
       "2021-01-01 03:00:00+00:00     5.954252           0.0        0             1   \n",
       "2021-01-01 04:00:00+00:00     5.620296           0.0        0             1   \n",
       "\n",
       "                           day_of_month  year  ...  sine_month  cos_month  \\\n",
       "datetime                                       ...                          \n",
       "2021-01-01 00:00:00+00:00             1  2021  ...         0.5   0.866025   \n",
       "2021-01-01 01:00:00+00:00             1  2021  ...         0.5   0.866025   \n",
       "2021-01-01 02:00:00+00:00             1  2021  ...         0.5   0.866025   \n",
       "2021-01-01 03:00:00+00:00             1  2021  ...         0.5   0.866025   \n",
       "2021-01-01 04:00:00+00:00             1  2021  ...         0.5   0.866025   \n",
       "\n",
       "                           sine_day_of_week  cos_day_of_week  \\\n",
       "datetime                                                       \n",
       "2021-01-01 00:00:00+00:00         -0.974928        -0.222521   \n",
       "2021-01-01 01:00:00+00:00         -0.974928        -0.222521   \n",
       "2021-01-01 02:00:00+00:00         -0.974928        -0.222521   \n",
       "2021-01-01 03:00:00+00:00         -0.974928        -0.222521   \n",
       "2021-01-01 04:00:00+00:00         -0.974928        -0.222521   \n",
       "\n",
       "                           sine_forecast_winddirection  \\\n",
       "datetime                                                 \n",
       "2021-01-01 00:00:00+00:00                     0.000000   \n",
       "2021-01-01 01:00:00+00:00                     0.000000   \n",
       "2021-01-01 02:00:00+00:00                     0.000000   \n",
       "2021-01-01 03:00:00+00:00                    -0.382683   \n",
       "2021-01-01 04:00:00+00:00                    -0.382683   \n",
       "\n",
       "                           cos_forecast_winddirection  sine_sunrise_hour  \\\n",
       "datetime                                                                   \n",
       "2021-01-01 00:00:00+00:00                     1.00000           0.866025   \n",
       "2021-01-01 01:00:00+00:00                     1.00000           0.866025   \n",
       "2021-01-01 02:00:00+00:00                     1.00000           0.866025   \n",
       "2021-01-01 03:00:00+00:00                     0.92388           0.866025   \n",
       "2021-01-01 04:00:00+00:00                     0.92388           0.866025   \n",
       "\n",
       "                           cos_sunrise_hour  sine_sunset_hour  cos_sunset_hour  \n",
       "datetime                                                                        \n",
       "2021-01-01 00:00:00+00:00              -0.5          0.866025             -0.5  \n",
       "2021-01-01 01:00:00+00:00              -0.5          0.866025             -0.5  \n",
       "2021-01-01 02:00:00+00:00              -0.5          0.866025             -0.5  \n",
       "2021-01-01 03:00:00+00:00              -0.5          0.866025             -0.5  \n",
       "2021-01-01 04:00:00+00:00              -0.5          0.866025             -0.5  \n",
       "\n",
       "[5 rows x 32 columns]"
      ]
     },
     "execution_count": 5,
     "metadata": {},
     "output_type": "execute_result"
    }
   ],
   "source": [
    "data_path = \"./../data/\"\n",
    "file_name = \"data.csv\"\n",
    "data = pd.read_csv(data_path + file_name)\n",
    "data = first_preprocess(data, data_path)\n",
    "data.head()"
   ]
  },
  {
   "cell_type": "code",
   "execution_count": 6,
   "metadata": {
    "colab": {
     "base_uri": "https://localhost:8080/"
    },
    "id": "uDESJoyuMIxW",
    "outputId": "9092c27e-a3de-45df-d09b-0efd89f04fef"
   },
   "outputs": [
    {
     "data": {
      "text/plain": [
       "Index(['space_heating', 'hot_water', 'sockets', 'lighting', 'bld_engcons',\n",
       "       'car_chargers', 'weekend', 'bank_holiday', 'day_of_month', 'year',\n",
       "       'forecast_temperature', 'forecast_feelslike', 'forecast_weathertype',\n",
       "       'forecast_windspeed', 'forecast_uvindex',\n",
       "       'forecast_precipitationprobability', 'forecast_visibility',\n",
       "       'week_of_year', 'daylight_hours', 'is_daylight', 'sine_hour',\n",
       "       'cos_hour', 'sine_month', 'cos_month', 'sine_day_of_week',\n",
       "       'cos_day_of_week', 'sine_forecast_winddirection',\n",
       "       'cos_forecast_winddirection', 'sine_sunrise_hour', 'cos_sunrise_hour',\n",
       "       'sine_sunset_hour', 'cos_sunset_hour'],\n",
       "      dtype='object')"
      ]
     },
     "execution_count": 6,
     "metadata": {},
     "output_type": "execute_result"
    }
   ],
   "source": [
    "data.columns"
   ]
  },
  {
   "cell_type": "markdown",
   "metadata": {
    "id": "RWOOlVG4UBtU"
   },
   "source": [
    "#### Data preparation"
   ]
  },
  {
   "cell_type": "code",
   "execution_count": 7,
   "metadata": {
    "colab": {
     "base_uri": "https://localhost:8080/"
    },
    "id": "9Qgm91PIZ-xO",
    "outputId": "8df41a66-9131-48e1-a220-10ad96f53a0b"
   },
   "outputs": [
    {
     "name": "stdout",
     "output_type": "stream",
     "text": [
      "                              columns          mean    variance  scale_factor\n",
      "0                forecast_temperature  1.184456e+01   21.642635      4.652165\n",
      "1                  forecast_feelslike  9.344768e+00   29.482598      5.429788\n",
      "2                forecast_weathertype  6.297584e+00   23.407858      4.838167\n",
      "3                  forecast_windspeed  1.508560e+01   50.910046      7.135128\n",
      "4                    forecast_uvindex  1.080594e+00    2.562323      1.600726\n",
      "5   forecast_precipitationprobability  1.954772e+01  732.843040     27.071074\n",
      "6                 forecast_visibility  4.683942e+00    0.689986      0.830654\n",
      "7                        week_of_year  2.657260e+01  226.551578     15.051630\n",
      "8                      daylight_hours  0.000000e+00    0.000000      1.000000\n",
      "9                         is_daylight  0.000000e+00    0.000000      1.000000\n",
      "10                          sine_hour -1.845302e-17    0.500000      0.707107\n",
      "11                           cos_hour -5.549425e-17    0.500000      0.707107\n",
      "12                         sine_month -5.381100e-03    0.497916      0.705632\n",
      "13                          cos_month -2.372672e-03    0.502049      0.708554\n",
      "14                   sine_day_of_week -1.604346e-03    0.500054      0.707145\n",
      "15                    cos_day_of_week  1.279424e-03    0.499942      0.707066\n",
      "16        sine_forecast_winddirection -2.502606e-01    0.536844      0.732696\n",
      "17         cos_forecast_winddirection -6.348960e-02    0.396495      0.629678\n",
      "18                  sine_sunrise_hour  9.173561e-01    0.005343      0.073095\n",
      "19                   cos_sunrise_hour  8.064172e-02    0.146612      0.382899\n",
      "20                   sine_sunset_hour  9.173561e-01    0.005343      0.073095\n",
      "21                    cos_sunset_hour  8.064172e-02    0.146612      0.382899\n",
      "22                            weekend  2.867580e-01    0.204528      0.452248\n",
      "23                       bank_holiday  2.465753e-02    0.024050      0.155079\n",
      "24                       day_of_month  1.572055e+01   77.373961      8.796247\n",
      "25                               year  2.022000e+03    0.666667      0.816497\n",
      "  columns      mean  variance  scale_factor\n",
      "0       y  0.921523   1.40919      1.187093\n"
     ]
    },
    {
     "data": {
      "text/plain": [
       "((19680, 27), (6600, 27))"
      ]
     },
     "execution_count": 7,
     "metadata": {},
     "output_type": "execute_result"
    }
   ],
   "source": [
    "exo_columns = ['forecast_temperature', 'forecast_feelslike', 'forecast_weathertype',\n",
    "       'forecast_windspeed', 'forecast_uvindex',\n",
    "       'forecast_precipitationprobability', 'forecast_visibility',\n",
    "       'week_of_year', 'daylight_hours', 'is_daylight', 'sine_hour',\n",
    "       'cos_hour', 'sine_month', 'cos_month', 'sine_day_of_week',\n",
    "       'cos_day_of_week', 'sine_forecast_winddirection',\n",
    "       'cos_forecast_winddirection', 'sine_sunrise_hour', 'cos_sunrise_hour',\n",
    "       'sine_sunset_hour', 'cos_sunset_hour']\n",
    "endo_columns = ['weekend', 'bank_holiday', 'day_of_month', 'year']\n",
    "target_column = [\"y\"]\n",
    "column_name = exo_columns + endo_columns  + target_column # + [\"space_heating\"]\n",
    "test_date = '2023-04-01'\n",
    "\n",
    "# transform the data\n",
    "sh_data = data.copy()\n",
    "sh_data = sh_data.rename(columns={\"space_heating\": \"y\"})\n",
    "# sh_data[\"y\"] = sh_data[column_name[0]].shift(1)\n",
    "# sh_data = sh_data.dropna(axis=0)\n",
    "sh_data_scaler, sh_transformed_data = create_std_scaler(sh_data, column_name[:-1])\n",
    "sh_target_scaler, sh_transformed_target_data = create_std_scaler(sh_data, column_name[-1])\n",
    "\n",
    "sh_transformed_data = pd.merge(sh_transformed_data, sh_transformed_target_data,\n",
    "                               left_index=True,\n",
    "                               right_index=True)\n",
    "\n",
    "# # Training and testing data for comms and services\n",
    "sh_train_data = sh_transformed_data[sh_transformed_data.index < test_date][column_name]\n",
    "sh_test_data = sh_transformed_data[sh_transformed_data.index >= test_date][column_name]\n",
    "sh_train_data.shape, sh_test_data.shape"
   ]
  },
  {
   "cell_type": "markdown",
   "metadata": {
    "id": "h2eCGdz8UFKa"
   },
   "source": [
    "#### Modelling"
   ]
  },
  {
   "cell_type": "code",
   "execution_count": 8,
   "metadata": {
    "id": "vBlBjBsWapE7"
   },
   "outputs": [],
   "source": [
    "params = {\n",
    "    'n_estimators': 100,\n",
    "    'criterion':  'absolute_error',\n",
    "    'max_depth': 2,\n",
    "    'max_features': \"sqrt\",\n",
    "    'random_state': 994564,\n",
    "    'verbose': 0\n",
    "}\n",
    "forecaster = ForecasterAutoreg(regressor = RandomForestRegressor(**params),\n",
    "                               lags = 24)"
   ]
  },
  {
   "cell_type": "code",
   "execution_count": 9,
   "metadata": {
    "colab": {
     "base_uri": "https://localhost:8080/",
     "height": 373
    },
    "id": "DawqaxMzc8F4",
    "outputId": "2905fc48-9aac-4ea3-d993-44ef7ece9e30"
   },
   "outputs": [
    {
     "data": {
      "application/vnd.jupyter.widget-view+json": {
       "model_id": "39b3cf137aca46aaae2dc8021fda7f0d",
       "version_major": 2,
       "version_minor": 0
      },
      "text/plain": [
       "  0%|          | 0/90 [00:00<?, ?it/s]"
      ]
     },
     "metadata": {},
     "output_type": "display_data"
    },
    {
     "name": "stdout",
     "output_type": "stream",
     "text": [
      "Backtest error: 0.76\n"
     ]
    },
    {
     "data": {
      "text/html": [
       "<div>\n",
       "<style scoped>\n",
       "    .dataframe tbody tr th:only-of-type {\n",
       "        vertical-align: middle;\n",
       "    }\n",
       "\n",
       "    .dataframe tbody tr th {\n",
       "        vertical-align: top;\n",
       "    }\n",
       "\n",
       "    .dataframe thead th {\n",
       "        text-align: right;\n",
       "    }\n",
       "</style>\n",
       "<table border=\"1\" class=\"dataframe\">\n",
       "  <thead>\n",
       "    <tr style=\"text-align: right;\">\n",
       "      <th></th>\n",
       "      <th>pred</th>\n",
       "    </tr>\n",
       "  </thead>\n",
       "  <tbody>\n",
       "    <tr>\n",
       "      <th>2023-01-01 00:00:00+00:00</th>\n",
       "      <td>-0.009253</td>\n",
       "    </tr>\n",
       "    <tr>\n",
       "      <th>2023-01-01 01:00:00+00:00</th>\n",
       "      <td>0.044091</td>\n",
       "    </tr>\n",
       "    <tr>\n",
       "      <th>2023-01-01 02:00:00+00:00</th>\n",
       "      <td>0.099400</td>\n",
       "    </tr>\n",
       "    <tr>\n",
       "      <th>2023-01-01 03:00:00+00:00</th>\n",
       "      <td>0.140617</td>\n",
       "    </tr>\n",
       "    <tr>\n",
       "      <th>2023-01-01 04:00:00+00:00</th>\n",
       "      <td>0.192482</td>\n",
       "    </tr>\n",
       "  </tbody>\n",
       "</table>\n",
       "</div>"
      ],
      "text/plain": [
       "                               pred\n",
       "2023-01-01 00:00:00+00:00 -0.009253\n",
       "2023-01-01 01:00:00+00:00  0.044091\n",
       "2023-01-01 02:00:00+00:00  0.099400\n",
       "2023-01-01 03:00:00+00:00  0.140617\n",
       "2023-01-01 04:00:00+00:00  0.192482"
      ]
     },
     "execution_count": 9,
     "metadata": {},
     "output_type": "execute_result"
    }
   ],
   "source": [
    "metric, predictions = backtesting_forecaster(\n",
    "    forecaster         = forecaster,\n",
    "    y                  = sh_train_data['y'],\n",
    "    exog               = sh_train_data[exo_columns + endo_columns],\n",
    "    steps              = 24,\n",
    "    metric             = 'mean_absolute_error',\n",
    "    initial_train_size = sh_train_data[sh_train_data.index < '2023-01-01'].shape[0],\n",
    "    refit              = False,\n",
    "    n_jobs             = 'auto',\n",
    "    verbose            = False,\n",
    "    show_progress      = True\n",
    ")\n",
    "\n",
    "print(f\"Backtest error: {metric:.2f}\")\n",
    "predictions.head()"
   ]
  },
  {
   "cell_type": "code",
   "execution_count": 10,
   "metadata": {
    "colab": {
     "base_uri": "https://localhost:8080/"
    },
    "id": "FYu-5nhTddCr",
    "outputId": "521413c1-fc46-464f-d05f-faa7ed108f2e"
   },
   "outputs": [
    {
     "data": {
      "text/plain": [
       "0.7581657887104958"
      ]
     },
     "execution_count": 10,
     "metadata": {},
     "output_type": "execute_result"
    }
   ],
   "source": [
    "metric"
   ]
  },
  {
   "cell_type": "code",
   "execution_count": 11,
   "metadata": {
    "colab": {
     "base_uri": "https://localhost:8080/",
     "height": 238
    },
    "id": "4rxcJPnhFsyQ",
    "outputId": "6b4148d9-3690-4084-9b19-3e29da79b577"
   },
   "outputs": [
    {
     "data": {
      "text/html": [
       "<div>\n",
       "<style scoped>\n",
       "    .dataframe tbody tr th:only-of-type {\n",
       "        vertical-align: middle;\n",
       "    }\n",
       "\n",
       "    .dataframe tbody tr th {\n",
       "        vertical-align: top;\n",
       "    }\n",
       "\n",
       "    .dataframe thead th {\n",
       "        text-align: right;\n",
       "    }\n",
       "</style>\n",
       "<table border=\"1\" class=\"dataframe\">\n",
       "  <thead>\n",
       "    <tr style=\"text-align: right;\">\n",
       "      <th></th>\n",
       "      <th>y</th>\n",
       "      <th>pred</th>\n",
       "    </tr>\n",
       "    <tr>\n",
       "      <th>datetime</th>\n",
       "      <th></th>\n",
       "      <th></th>\n",
       "    </tr>\n",
       "  </thead>\n",
       "  <tbody>\n",
       "    <tr>\n",
       "      <th>2023-01-01 00:00:00+00:00</th>\n",
       "      <td>2.282837</td>\n",
       "      <td>-0.009253</td>\n",
       "    </tr>\n",
       "    <tr>\n",
       "      <th>2023-01-01 01:00:00+00:00</th>\n",
       "      <td>1.877998</td>\n",
       "      <td>0.044091</td>\n",
       "    </tr>\n",
       "    <tr>\n",
       "      <th>2023-01-01 02:00:00+00:00</th>\n",
       "      <td>0.729589</td>\n",
       "      <td>0.099400</td>\n",
       "    </tr>\n",
       "    <tr>\n",
       "      <th>2023-01-01 03:00:00+00:00</th>\n",
       "      <td>0.669020</td>\n",
       "      <td>0.140617</td>\n",
       "    </tr>\n",
       "    <tr>\n",
       "      <th>2023-01-01 04:00:00+00:00</th>\n",
       "      <td>0.563266</td>\n",
       "      <td>0.192482</td>\n",
       "    </tr>\n",
       "  </tbody>\n",
       "</table>\n",
       "</div>"
      ],
      "text/plain": [
       "                                  y      pred\n",
       "datetime                                     \n",
       "2023-01-01 00:00:00+00:00  2.282837 -0.009253\n",
       "2023-01-01 01:00:00+00:00  1.877998  0.044091\n",
       "2023-01-01 02:00:00+00:00  0.729589  0.099400\n",
       "2023-01-01 03:00:00+00:00  0.669020  0.140617\n",
       "2023-01-01 04:00:00+00:00  0.563266  0.192482"
      ]
     },
     "execution_count": 11,
     "metadata": {},
     "output_type": "execute_result"
    }
   ],
   "source": [
    "sh_validation = sh_train_data[sh_train_data.index >= \"2023-01-01\"]\n",
    "sh_validation = sh_validation[[\"y\"]]\n",
    "sh_validation = pd.merge(sh_validation, predictions, left_index=True, right_index=True)\n",
    "\n",
    "sh_validation.head()"
   ]
  },
  {
   "cell_type": "code",
   "execution_count": 12,
   "metadata": {
    "colab": {
     "base_uri": "https://localhost:8080/",
     "height": 238
    },
    "id": "uQMc2QGcRrf7",
    "outputId": "bbbfb233-f649-4e81-f33c-297671d8a1e5"
   },
   "outputs": [
    {
     "data": {
      "text/html": [
       "<div>\n",
       "<style scoped>\n",
       "    .dataframe tbody tr th:only-of-type {\n",
       "        vertical-align: middle;\n",
       "    }\n",
       "\n",
       "    .dataframe tbody tr th {\n",
       "        vertical-align: top;\n",
       "    }\n",
       "\n",
       "    .dataframe thead th {\n",
       "        text-align: right;\n",
       "    }\n",
       "</style>\n",
       "<table border=\"1\" class=\"dataframe\">\n",
       "  <thead>\n",
       "    <tr style=\"text-align: right;\">\n",
       "      <th></th>\n",
       "      <th>y</th>\n",
       "      <th>pred</th>\n",
       "    </tr>\n",
       "    <tr>\n",
       "      <th>datetime</th>\n",
       "      <th></th>\n",
       "      <th></th>\n",
       "    </tr>\n",
       "  </thead>\n",
       "  <tbody>\n",
       "    <tr>\n",
       "      <th>2023-01-01 00:00:00+00:00</th>\n",
       "      <td>3.631463</td>\n",
       "      <td>0.910539</td>\n",
       "    </tr>\n",
       "    <tr>\n",
       "      <th>2023-01-01 01:00:00+00:00</th>\n",
       "      <td>3.150882</td>\n",
       "      <td>0.973863</td>\n",
       "    </tr>\n",
       "    <tr>\n",
       "      <th>2023-01-01 02:00:00+00:00</th>\n",
       "      <td>1.787612</td>\n",
       "      <td>1.039520</td>\n",
       "    </tr>\n",
       "    <tr>\n",
       "      <th>2023-01-01 03:00:00+00:00</th>\n",
       "      <td>1.715712</td>\n",
       "      <td>1.088448</td>\n",
       "    </tr>\n",
       "    <tr>\n",
       "      <th>2023-01-01 04:00:00+00:00</th>\n",
       "      <td>1.590172</td>\n",
       "      <td>1.150017</td>\n",
       "    </tr>\n",
       "  </tbody>\n",
       "</table>\n",
       "</div>"
      ],
      "text/plain": [
       "                                  y      pred\n",
       "datetime                                     \n",
       "2023-01-01 00:00:00+00:00  3.631463  0.910539\n",
       "2023-01-01 01:00:00+00:00  3.150882  0.973863\n",
       "2023-01-01 02:00:00+00:00  1.787612  1.039520\n",
       "2023-01-01 03:00:00+00:00  1.715712  1.088448\n",
       "2023-01-01 04:00:00+00:00  1.590172  1.150017"
      ]
     },
     "execution_count": 12,
     "metadata": {},
     "output_type": "execute_result"
    }
   ],
   "source": [
    "sh_validation[[\"pred\", \"y\"]] = sh_target_scaler.inverse_transform(sh_validation[[\"pred\", \"y\"]])\n",
    "sh_validation.head()"
   ]
  },
  {
   "cell_type": "code",
   "execution_count": 13,
   "metadata": {
    "colab": {
     "base_uri": "https://localhost:8080/",
     "height": 81
    },
    "id": "mGm4Bi3NSaLa",
    "outputId": "436a3935-73e0-4928-c7cb-b1adbe0ae0af"
   },
   "outputs": [
    {
     "data": {
      "text/html": [
       "<div>\n",
       "<style scoped>\n",
       "    .dataframe tbody tr th:only-of-type {\n",
       "        vertical-align: middle;\n",
       "    }\n",
       "\n",
       "    .dataframe tbody tr th {\n",
       "        vertical-align: top;\n",
       "    }\n",
       "\n",
       "    .dataframe thead th {\n",
       "        text-align: right;\n",
       "    }\n",
       "</style>\n",
       "<table border=\"1\" class=\"dataframe\">\n",
       "  <thead>\n",
       "    <tr style=\"text-align: right;\">\n",
       "      <th></th>\n",
       "      <th>MAE</th>\n",
       "      <th>MAPE</th>\n",
       "      <th>R2_Score</th>\n",
       "      <th>SMAPE</th>\n",
       "      <th>nRMSE</th>\n",
       "      <th>RMSE</th>\n",
       "      <th>MASE</th>\n",
       "    </tr>\n",
       "  </thead>\n",
       "  <tbody>\n",
       "    <tr>\n",
       "      <th>0</th>\n",
       "      <td>0.900013</td>\n",
       "      <td>82.63</td>\n",
       "      <td>0.194382</td>\n",
       "      <td>53.89</td>\n",
       "      <td>0.195172</td>\n",
       "      <td>1.250081</td>\n",
       "      <td>-0.9</td>\n",
       "    </tr>\n",
       "  </tbody>\n",
       "</table>\n",
       "</div>"
      ],
      "text/plain": [
       "        MAE   MAPE  R2_Score  SMAPE     nRMSE      RMSE  MASE\n",
       "0  0.900013  82.63  0.194382  53.89  0.195172  1.250081  -0.9"
      ]
     },
     "execution_count": 13,
     "metadata": {},
     "output_type": "execute_result"
    }
   ],
   "source": [
    "cal_metrics(sh_validation[\"y\"].to_numpy(), sh_validation[\"pred\"].to_numpy())"
   ]
  },
  {
   "cell_type": "markdown",
   "metadata": {
    "id": "DL6VSiWlUXze"
   },
   "source": [
    "#### Hyperparameter tuning"
   ]
  },
  {
   "cell_type": "code",
   "execution_count": 14,
   "metadata": {
    "id": "Aa6JX7P2S2Xa"
   },
   "outputs": [],
   "source": [
    "lags_grid = [24, (4, 8, 16, 24)]"
   ]
  },
  {
   "cell_type": "code",
   "execution_count": 15,
   "metadata": {
    "id": "9_fFBvdJWaAB"
   },
   "outputs": [],
   "source": [
    "max_features = [\"sqrt\", \"log2\"]"
   ]
  },
  {
   "cell_type": "code",
   "execution_count": null,
   "metadata": {
    "id": "daLr5BCAU9LT"
   },
   "outputs": [],
   "source": [
    "def search_space(trial):\n",
    "  _search_space = {\n",
    "      \"n_estimators\": trial.suggest_int(\"n_estimators\", 150, 250, step=50),\n",
    "      \"max_depth\": trial.suggest_int(\"max_depth\", 3, 10, step=1),\n",
    "      \"lags\": trial.suggest_categorical(\"lags\", lags_grid),\n",
    "      \"criterion\": \"absolute_error\",\n",
    "      \"max_features\": trial.suggest_categorical(\"max_features\", max_features),\n",
    "      \"warm_start\": True\n",
    "  }\n",
    "  return _search_space"
   ]
  },
  {
   "cell_type": "code",
   "execution_count": null,
   "metadata": {
    "id": "ry9cQbVOXgQH"
   },
   "outputs": [],
   "source": [
    "from skforecast.model_selection import bayesian_search_forecaster"
   ]
  },
  {
   "cell_type": "code",
   "execution_count": null,
   "metadata": {
    "colab": {
     "base_uri": "https://localhost:8080/",
     "height": 49,
     "referenced_widgets": [
      "fa15a9b27e424db8bbf2605147ac7cc4",
      "6661adf190a94f1f9403caddb55b454f",
      "621fb46638544e82a1a3d4d91afa646d",
      "9a1f4c530fd540649a4c4af9275540df",
      "94820bdfb4954fe98fd08961bde3a6d4",
      "e0984bcbc9494a159e9330b687e4dae6",
      "04004ea8688c489f9e55f5022da1ae28",
      "6f0c72df75f046919366878182aef842",
      "0379001541c1465e841648f766333064",
      "fd6740cba27340f1be468dd877deba15",
      "1c4f1f51d6df4a97aa7dea1b0d2bef04"
     ]
    },
    "id": "4bp4LgsyVvaC",
    "outputId": "c866ee1d-3315-4802-e778-3661f6767954"
   },
   "outputs": [
    {
     "data": {
      "application/vnd.jupyter.widget-view+json": {
       "model_id": "fa15a9b27e424db8bbf2605147ac7cc4",
       "version_major": 2,
       "version_minor": 0
      },
      "text/plain": [
       "  0%|          | 0/20 [00:00<?, ?it/s]"
      ]
     },
     "metadata": {},
     "output_type": "display_data"
    }
   ],
   "source": [
    "results_search, frozen_trial = bayesian_search_forecaster(\n",
    "    forecaster=forecaster,\n",
    "    y=sh_train_data[\"y\"],\n",
    "    steps=24,\n",
    "    metric='mean_absolute_error',\n",
    "    search_space=search_space,\n",
    "    initial_train_size=sh_train_data[sh_train_data.index < \"2023-01-01\"].shape[0],\n",
    "    refit=False,\n",
    "    n_trials=20,\n",
    "    return_best=True,\n",
    "    n_jobs=\"auto\",\n",
    "    verbose=False,\n",
    "    show_progress=True\n",
    ")"
   ]
  },
  {
   "cell_type": "code",
   "execution_count": null,
   "metadata": {
    "colab": {
     "base_uri": "https://localhost:8080/",
     "height": 141
    },
    "id": "33cxx_Sd5bBe",
    "outputId": "8c6106c0-7181-4bdd-d1e8-16eb125140dd"
   },
   "outputs": [
    {
     "ename": "NameError",
     "evalue": "name 'results_search' is not defined",
     "output_type": "error",
     "traceback": [
      "\u001b[0;31m---------------------------------------------------------------------------\u001b[0m",
      "\u001b[0;31mNameError\u001b[0m                                 Traceback (most recent call last)",
      "\u001b[0;32m<ipython-input-1-70a0b4877282>\u001b[0m in \u001b[0;36m<cell line: 1>\u001b[0;34m()\u001b[0m\n\u001b[0;32m----> 1\u001b[0;31m \u001b[0mresults_search\u001b[0m\u001b[0;34m.\u001b[0m\u001b[0msort_values\u001b[0m\u001b[0;34m(\u001b[0m\u001b[0mby\u001b[0m\u001b[0;34m=\u001b[0m\u001b[0;34m[\u001b[0m\u001b[0;34m\"mean_absolute_error\"\u001b[0m\u001b[0;34m]\u001b[0m\u001b[0;34m,\u001b[0m \u001b[0mascending\u001b[0m\u001b[0;34m=\u001b[0m\u001b[0;32mFalse\u001b[0m\u001b[0;34m)\u001b[0m\u001b[0;34m.\u001b[0m\u001b[0mhead\u001b[0m\u001b[0;34m(\u001b[0m\u001b[0;34m)\u001b[0m\u001b[0;34m\u001b[0m\u001b[0;34m\u001b[0m\u001b[0m\n\u001b[0m",
      "\u001b[0;31mNameError\u001b[0m: name 'results_search' is not defined"
     ]
    }
   ],
   "source": [
    "results_search.sort_values(by=[\"mean_absolute_error\"], ascending=False).head()"
   ]
  },
  {
   "cell_type": "code",
   "execution_count": null,
   "metadata": {
    "id": "VfGbxiM953sG"
   },
   "outputs": [],
   "source": []
  }
 ],
 "metadata": {
  "colab": {
   "provenance": []
  },
  "kernelspec": {
   "display_name": "Python 3 (ipykernel)",
   "language": "python",
   "name": "python3"
  },
  "language_info": {
   "codemirror_mode": {
    "name": "ipython",
    "version": 3
   },
   "file_extension": ".py",
   "mimetype": "text/x-python",
   "name": "python",
   "nbconvert_exporter": "python",
   "pygments_lexer": "ipython3",
   "version": "3.11.8"
  },
  "widgets": {
   "application/vnd.jupyter.widget-state+json": {
    "0379001541c1465e841648f766333064": {
     "model_module": "@jupyter-widgets/controls",
     "model_module_version": "1.5.0",
     "model_name": "ProgressStyleModel",
     "state": {
      "_model_module": "@jupyter-widgets/controls",
      "_model_module_version": "1.5.0",
      "_model_name": "ProgressStyleModel",
      "_view_count": null,
      "_view_module": "@jupyter-widgets/base",
      "_view_module_version": "1.2.0",
      "_view_name": "StyleView",
      "bar_color": null,
      "description_width": ""
     }
    },
    "04004ea8688c489f9e55f5022da1ae28": {
     "model_module": "@jupyter-widgets/controls",
     "model_module_version": "1.5.0",
     "model_name": "DescriptionStyleModel",
     "state": {
      "_model_module": "@jupyter-widgets/controls",
      "_model_module_version": "1.5.0",
      "_model_name": "DescriptionStyleModel",
      "_view_count": null,
      "_view_module": "@jupyter-widgets/base",
      "_view_module_version": "1.2.0",
      "_view_name": "StyleView",
      "description_width": ""
     }
    },
    "1c4f1f51d6df4a97aa7dea1b0d2bef04": {
     "model_module": "@jupyter-widgets/controls",
     "model_module_version": "1.5.0",
     "model_name": "DescriptionStyleModel",
     "state": {
      "_model_module": "@jupyter-widgets/controls",
      "_model_module_version": "1.5.0",
      "_model_name": "DescriptionStyleModel",
      "_view_count": null,
      "_view_module": "@jupyter-widgets/base",
      "_view_module_version": "1.2.0",
      "_view_name": "StyleView",
      "description_width": ""
     }
    },
    "621fb46638544e82a1a3d4d91afa646d": {
     "model_module": "@jupyter-widgets/controls",
     "model_module_version": "1.5.0",
     "model_name": "FloatProgressModel",
     "state": {
      "_dom_classes": [],
      "_model_module": "@jupyter-widgets/controls",
      "_model_module_version": "1.5.0",
      "_model_name": "FloatProgressModel",
      "_view_count": null,
      "_view_module": "@jupyter-widgets/controls",
      "_view_module_version": "1.5.0",
      "_view_name": "ProgressView",
      "bar_style": "",
      "description": "",
      "description_tooltip": null,
      "layout": "IPY_MODEL_6f0c72df75f046919366878182aef842",
      "max": 20,
      "min": 0,
      "orientation": "horizontal",
      "style": "IPY_MODEL_0379001541c1465e841648f766333064",
      "value": 15
     }
    },
    "6661adf190a94f1f9403caddb55b454f": {
     "model_module": "@jupyter-widgets/controls",
     "model_module_version": "1.5.0",
     "model_name": "HTMLModel",
     "state": {
      "_dom_classes": [],
      "_model_module": "@jupyter-widgets/controls",
      "_model_module_version": "1.5.0",
      "_model_name": "HTMLModel",
      "_view_count": null,
      "_view_module": "@jupyter-widgets/controls",
      "_view_module_version": "1.5.0",
      "_view_name": "HTMLView",
      "description": "",
      "description_tooltip": null,
      "layout": "IPY_MODEL_e0984bcbc9494a159e9330b687e4dae6",
      "placeholder": "​",
      "style": "IPY_MODEL_04004ea8688c489f9e55f5022da1ae28",
      "value": "Best trial: 10. Best value: 0.689477:  75%"
     }
    },
    "6f0c72df75f046919366878182aef842": {
     "model_module": "@jupyter-widgets/base",
     "model_module_version": "1.2.0",
     "model_name": "LayoutModel",
     "state": {
      "_model_module": "@jupyter-widgets/base",
      "_model_module_version": "1.2.0",
      "_model_name": "LayoutModel",
      "_view_count": null,
      "_view_module": "@jupyter-widgets/base",
      "_view_module_version": "1.2.0",
      "_view_name": "LayoutView",
      "align_content": null,
      "align_items": null,
      "align_self": null,
      "border": null,
      "bottom": null,
      "display": null,
      "flex": null,
      "flex_flow": null,
      "grid_area": null,
      "grid_auto_columns": null,
      "grid_auto_flow": null,
      "grid_auto_rows": null,
      "grid_column": null,
      "grid_gap": null,
      "grid_row": null,
      "grid_template_areas": null,
      "grid_template_columns": null,
      "grid_template_rows": null,
      "height": null,
      "justify_content": null,
      "justify_items": null,
      "left": null,
      "margin": null,
      "max_height": null,
      "max_width": null,
      "min_height": null,
      "min_width": null,
      "object_fit": null,
      "object_position": null,
      "order": null,
      "overflow": null,
      "overflow_x": null,
      "overflow_y": null,
      "padding": null,
      "right": null,
      "top": null,
      "visibility": null,
      "width": null
     }
    },
    "94820bdfb4954fe98fd08961bde3a6d4": {
     "model_module": "@jupyter-widgets/base",
     "model_module_version": "1.2.0",
     "model_name": "LayoutModel",
     "state": {
      "_model_module": "@jupyter-widgets/base",
      "_model_module_version": "1.2.0",
      "_model_name": "LayoutModel",
      "_view_count": null,
      "_view_module": "@jupyter-widgets/base",
      "_view_module_version": "1.2.0",
      "_view_name": "LayoutView",
      "align_content": null,
      "align_items": null,
      "align_self": null,
      "border": null,
      "bottom": null,
      "display": null,
      "flex": null,
      "flex_flow": null,
      "grid_area": null,
      "grid_auto_columns": null,
      "grid_auto_flow": null,
      "grid_auto_rows": null,
      "grid_column": null,
      "grid_gap": null,
      "grid_row": null,
      "grid_template_areas": null,
      "grid_template_columns": null,
      "grid_template_rows": null,
      "height": null,
      "justify_content": null,
      "justify_items": null,
      "left": null,
      "margin": null,
      "max_height": null,
      "max_width": null,
      "min_height": null,
      "min_width": null,
      "object_fit": null,
      "object_position": null,
      "order": null,
      "overflow": null,
      "overflow_x": null,
      "overflow_y": null,
      "padding": null,
      "right": null,
      "top": null,
      "visibility": null,
      "width": null
     }
    },
    "9a1f4c530fd540649a4c4af9275540df": {
     "model_module": "@jupyter-widgets/controls",
     "model_module_version": "1.5.0",
     "model_name": "HTMLModel",
     "state": {
      "_dom_classes": [],
      "_model_module": "@jupyter-widgets/controls",
      "_model_module_version": "1.5.0",
      "_model_name": "HTMLModel",
      "_view_count": null,
      "_view_module": "@jupyter-widgets/controls",
      "_view_module_version": "1.5.0",
      "_view_name": "HTMLView",
      "description": "",
      "description_tooltip": null,
      "layout": "IPY_MODEL_fd6740cba27340f1be468dd877deba15",
      "placeholder": "​",
      "style": "IPY_MODEL_1c4f1f51d6df4a97aa7dea1b0d2bef04",
      "value": " 15/20 [6:38:25&lt;1:35:30, 1146.14s/it]"
     }
    },
    "e0984bcbc9494a159e9330b687e4dae6": {
     "model_module": "@jupyter-widgets/base",
     "model_module_version": "1.2.0",
     "model_name": "LayoutModel",
     "state": {
      "_model_module": "@jupyter-widgets/base",
      "_model_module_version": "1.2.0",
      "_model_name": "LayoutModel",
      "_view_count": null,
      "_view_module": "@jupyter-widgets/base",
      "_view_module_version": "1.2.0",
      "_view_name": "LayoutView",
      "align_content": null,
      "align_items": null,
      "align_self": null,
      "border": null,
      "bottom": null,
      "display": null,
      "flex": null,
      "flex_flow": null,
      "grid_area": null,
      "grid_auto_columns": null,
      "grid_auto_flow": null,
      "grid_auto_rows": null,
      "grid_column": null,
      "grid_gap": null,
      "grid_row": null,
      "grid_template_areas": null,
      "grid_template_columns": null,
      "grid_template_rows": null,
      "height": null,
      "justify_content": null,
      "justify_items": null,
      "left": null,
      "margin": null,
      "max_height": null,
      "max_width": null,
      "min_height": null,
      "min_width": null,
      "object_fit": null,
      "object_position": null,
      "order": null,
      "overflow": null,
      "overflow_x": null,
      "overflow_y": null,
      "padding": null,
      "right": null,
      "top": null,
      "visibility": null,
      "width": null
     }
    },
    "fa15a9b27e424db8bbf2605147ac7cc4": {
     "model_module": "@jupyter-widgets/controls",
     "model_module_version": "1.5.0",
     "model_name": "HBoxModel",
     "state": {
      "_dom_classes": [],
      "_model_module": "@jupyter-widgets/controls",
      "_model_module_version": "1.5.0",
      "_model_name": "HBoxModel",
      "_view_count": null,
      "_view_module": "@jupyter-widgets/controls",
      "_view_module_version": "1.5.0",
      "_view_name": "HBoxView",
      "box_style": "",
      "children": [
       "IPY_MODEL_6661adf190a94f1f9403caddb55b454f",
       "IPY_MODEL_621fb46638544e82a1a3d4d91afa646d",
       "IPY_MODEL_9a1f4c530fd540649a4c4af9275540df"
      ],
      "layout": "IPY_MODEL_94820bdfb4954fe98fd08961bde3a6d4"
     }
    },
    "fd6740cba27340f1be468dd877deba15": {
     "model_module": "@jupyter-widgets/base",
     "model_module_version": "1.2.0",
     "model_name": "LayoutModel",
     "state": {
      "_model_module": "@jupyter-widgets/base",
      "_model_module_version": "1.2.0",
      "_model_name": "LayoutModel",
      "_view_count": null,
      "_view_module": "@jupyter-widgets/base",
      "_view_module_version": "1.2.0",
      "_view_name": "LayoutView",
      "align_content": null,
      "align_items": null,
      "align_self": null,
      "border": null,
      "bottom": null,
      "display": null,
      "flex": null,
      "flex_flow": null,
      "grid_area": null,
      "grid_auto_columns": null,
      "grid_auto_flow": null,
      "grid_auto_rows": null,
      "grid_column": null,
      "grid_gap": null,
      "grid_row": null,
      "grid_template_areas": null,
      "grid_template_columns": null,
      "grid_template_rows": null,
      "height": null,
      "justify_content": null,
      "justify_items": null,
      "left": null,
      "margin": null,
      "max_height": null,
      "max_width": null,
      "min_height": null,
      "min_width": null,
      "object_fit": null,
      "object_position": null,
      "order": null,
      "overflow": null,
      "overflow_x": null,
      "overflow_y": null,
      "padding": null,
      "right": null,
      "top": null,
      "visibility": null,
      "width": null
     }
    }
   }
  }
 },
 "nbformat": 4,
 "nbformat_minor": 4
}
