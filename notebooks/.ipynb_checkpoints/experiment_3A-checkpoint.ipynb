{
 "cells": [
  {
   "cell_type": "code",
   "execution_count": 1,
   "id": "c377690f-cf0c-47c0-adeb-11452d438c31",
   "metadata": {},
   "outputs": [],
   "source": [
    "import pandas as pd\n",
    "import numpy as np\n",
    "import matplotlib.pyplot as plt\n",
    "\n",
    "from sklearn.linear_model import LinearRegression\n",
    "from sklearn.ensemble import RandomForestRegressor\n",
    "from skforecast.model_selection import backtesting_forecaster\n",
    "from skforecast.ForecasterAutoreg import ForecasterAutoreg\n",
    "\n",
    "from custom_utils import *\n",
    "\n",
    "import plotly\n",
    "import plotly.graph_objects as go\n"
   ]
  },
  {
   "cell_type": "code",
   "execution_count": 2,
   "id": "78f572c2-1e18-4d08-bda0-cbb6b3ef3a91",
   "metadata": {},
   "outputs": [],
   "source": [
    "np.random.seed(90)"
   ]
  },
  {
   "cell_type": "markdown",
   "id": "6aff1d2b-a453-420f-9bea-51a47fe249d1",
   "metadata": {},
   "source": [
    "## Initial data load"
   ]
  },
  {
   "cell_type": "code",
   "execution_count": 3,
   "id": "9aa41883-f2d1-4ecf-877f-330243f0d9cf",
   "metadata": {},
   "outputs": [
    {
     "name": "stderr",
     "output_type": "stream",
     "text": [
      "D:\\RA_work\\timeseries_data\\notebooks\\custom_utils.py:123: FutureWarning: 'H' is deprecated and will be removed in a future version, please use 'h' instead.\n",
      "  data = data.asfreq(\"H\")\n",
      "D:\\RA_work\\timeseries_data\\notebooks\\custom_utils.py:80: FutureWarning: Series.interpolate with object dtype is deprecated and will raise in a future version. Call obj.infer_objects(copy=False) before interpolating instead.\n",
      "  data[column] = data[column].interpolate(method=\"linear\", limit_direction=\"both\")\n"
     ]
    },
    {
     "data": {
      "text/html": [
       "<div>\n",
       "<style scoped>\n",
       "    .dataframe tbody tr th:only-of-type {\n",
       "        vertical-align: middle;\n",
       "    }\n",
       "\n",
       "    .dataframe tbody tr th {\n",
       "        vertical-align: top;\n",
       "    }\n",
       "\n",
       "    .dataframe thead th {\n",
       "        text-align: right;\n",
       "    }\n",
       "</style>\n",
       "<table border=\"1\" class=\"dataframe\">\n",
       "  <thead>\n",
       "    <tr style=\"text-align: right;\">\n",
       "      <th></th>\n",
       "      <th>space_heating</th>\n",
       "      <th>hot_water</th>\n",
       "      <th>sockets</th>\n",
       "      <th>lighting</th>\n",
       "      <th>bld_engcons</th>\n",
       "      <th>car_chargers</th>\n",
       "      <th>weekend</th>\n",
       "      <th>bank_holiday</th>\n",
       "      <th>hour</th>\n",
       "      <th>day_of_week</th>\n",
       "      <th>...</th>\n",
       "      <th>month</th>\n",
       "      <th>year</th>\n",
       "      <th>forecast_temperature</th>\n",
       "      <th>forecast_feelslike</th>\n",
       "      <th>forecast_weathertype</th>\n",
       "      <th>forecast_windspeed</th>\n",
       "      <th>forecast_uvindex</th>\n",
       "      <th>forecast_precipitationprobability</th>\n",
       "      <th>forecast_winddirection</th>\n",
       "      <th>forecast_visibility</th>\n",
       "    </tr>\n",
       "    <tr>\n",
       "      <th>datetime</th>\n",
       "      <th></th>\n",
       "      <th></th>\n",
       "      <th></th>\n",
       "      <th></th>\n",
       "      <th></th>\n",
       "      <th></th>\n",
       "      <th></th>\n",
       "      <th></th>\n",
       "      <th></th>\n",
       "      <th></th>\n",
       "      <th></th>\n",
       "      <th></th>\n",
       "      <th></th>\n",
       "      <th></th>\n",
       "      <th></th>\n",
       "      <th></th>\n",
       "      <th></th>\n",
       "      <th></th>\n",
       "      <th></th>\n",
       "      <th></th>\n",
       "      <th></th>\n",
       "    </tr>\n",
       "  </thead>\n",
       "  <tbody>\n",
       "    <tr>\n",
       "      <th>2021-01-01 00:00:00+00:00</th>\n",
       "      <td>3.425193</td>\n",
       "      <td>0.000000</td>\n",
       "      <td>0.049433</td>\n",
       "      <td>0.154873</td>\n",
       "      <td>3.629499</td>\n",
       "      <td>0.0</td>\n",
       "      <td>0</td>\n",
       "      <td>1</td>\n",
       "      <td>0</td>\n",
       "      <td>5</td>\n",
       "      <td>...</td>\n",
       "      <td>1</td>\n",
       "      <td>2021</td>\n",
       "      <td>3.0</td>\n",
       "      <td>-1.0</td>\n",
       "      <td>2.0</td>\n",
       "      <td>11.0</td>\n",
       "      <td>0.0</td>\n",
       "      <td>0.0</td>\n",
       "      <td>0.0</td>\n",
       "      <td>5.0</td>\n",
       "    </tr>\n",
       "    <tr>\n",
       "      <th>2021-01-01 01:00:00+00:00</th>\n",
       "      <td>4.012907</td>\n",
       "      <td>0.000000</td>\n",
       "      <td>0.047753</td>\n",
       "      <td>0.154846</td>\n",
       "      <td>4.215506</td>\n",
       "      <td>0.0</td>\n",
       "      <td>0</td>\n",
       "      <td>1</td>\n",
       "      <td>1</td>\n",
       "      <td>5</td>\n",
       "      <td>...</td>\n",
       "      <td>1</td>\n",
       "      <td>2021</td>\n",
       "      <td>3.0</td>\n",
       "      <td>-1.0</td>\n",
       "      <td>2.0</td>\n",
       "      <td>11.0</td>\n",
       "      <td>0.0</td>\n",
       "      <td>0.0</td>\n",
       "      <td>0.0</td>\n",
       "      <td>5.0</td>\n",
       "    </tr>\n",
       "    <tr>\n",
       "      <th>2021-01-01 02:00:00+00:00</th>\n",
       "      <td>5.342417</td>\n",
       "      <td>0.444782</td>\n",
       "      <td>0.051869</td>\n",
       "      <td>0.154997</td>\n",
       "      <td>5.994066</td>\n",
       "      <td>0.0</td>\n",
       "      <td>0</td>\n",
       "      <td>1</td>\n",
       "      <td>2</td>\n",
       "      <td>5</td>\n",
       "      <td>...</td>\n",
       "      <td>1</td>\n",
       "      <td>2021</td>\n",
       "      <td>3.0</td>\n",
       "      <td>-1.0</td>\n",
       "      <td>2.0</td>\n",
       "      <td>11.0</td>\n",
       "      <td>0.0</td>\n",
       "      <td>1.0</td>\n",
       "      <td>0.0</td>\n",
       "      <td>5.0</td>\n",
       "    </tr>\n",
       "    <tr>\n",
       "      <th>2021-01-01 03:00:00+00:00</th>\n",
       "      <td>5.756598</td>\n",
       "      <td>0.000000</td>\n",
       "      <td>0.043028</td>\n",
       "      <td>0.154626</td>\n",
       "      <td>5.954252</td>\n",
       "      <td>0.0</td>\n",
       "      <td>0</td>\n",
       "      <td>1</td>\n",
       "      <td>3</td>\n",
       "      <td>5</td>\n",
       "      <td>...</td>\n",
       "      <td>1</td>\n",
       "      <td>2021</td>\n",
       "      <td>2.0</td>\n",
       "      <td>-2.0</td>\n",
       "      <td>0.0</td>\n",
       "      <td>11.0</td>\n",
       "      <td>0.0</td>\n",
       "      <td>1.0</td>\n",
       "      <td>337.5</td>\n",
       "      <td>5.0</td>\n",
       "    </tr>\n",
       "    <tr>\n",
       "      <th>2021-01-01 04:00:00+00:00</th>\n",
       "      <td>5.415492</td>\n",
       "      <td>0.000000</td>\n",
       "      <td>0.050306</td>\n",
       "      <td>0.154498</td>\n",
       "      <td>5.620296</td>\n",
       "      <td>0.0</td>\n",
       "      <td>0</td>\n",
       "      <td>1</td>\n",
       "      <td>4</td>\n",
       "      <td>5</td>\n",
       "      <td>...</td>\n",
       "      <td>1</td>\n",
       "      <td>2021</td>\n",
       "      <td>2.0</td>\n",
       "      <td>-2.0</td>\n",
       "      <td>0.0</td>\n",
       "      <td>11.0</td>\n",
       "      <td>0.0</td>\n",
       "      <td>1.0</td>\n",
       "      <td>337.5</td>\n",
       "      <td>5.0</td>\n",
       "    </tr>\n",
       "  </tbody>\n",
       "</table>\n",
       "<p>5 rows × 21 columns</p>\n",
       "</div>"
      ],
      "text/plain": [
       "                           space_heating  hot_water   sockets  lighting  \\\n",
       "datetime                                                                  \n",
       "2021-01-01 00:00:00+00:00       3.425193   0.000000  0.049433  0.154873   \n",
       "2021-01-01 01:00:00+00:00       4.012907   0.000000  0.047753  0.154846   \n",
       "2021-01-01 02:00:00+00:00       5.342417   0.444782  0.051869  0.154997   \n",
       "2021-01-01 03:00:00+00:00       5.756598   0.000000  0.043028  0.154626   \n",
       "2021-01-01 04:00:00+00:00       5.415492   0.000000  0.050306  0.154498   \n",
       "\n",
       "                           bld_engcons  car_chargers  weekend  bank_holiday  \\\n",
       "datetime                                                                      \n",
       "2021-01-01 00:00:00+00:00     3.629499           0.0        0             1   \n",
       "2021-01-01 01:00:00+00:00     4.215506           0.0        0             1   \n",
       "2021-01-01 02:00:00+00:00     5.994066           0.0        0             1   \n",
       "2021-01-01 03:00:00+00:00     5.954252           0.0        0             1   \n",
       "2021-01-01 04:00:00+00:00     5.620296           0.0        0             1   \n",
       "\n",
       "                           hour  day_of_week  ...  month  year  \\\n",
       "datetime                                      ...                \n",
       "2021-01-01 00:00:00+00:00     0            5  ...      1  2021   \n",
       "2021-01-01 01:00:00+00:00     1            5  ...      1  2021   \n",
       "2021-01-01 02:00:00+00:00     2            5  ...      1  2021   \n",
       "2021-01-01 03:00:00+00:00     3            5  ...      1  2021   \n",
       "2021-01-01 04:00:00+00:00     4            5  ...      1  2021   \n",
       "\n",
       "                           forecast_temperature  forecast_feelslike  \\\n",
       "datetime                                                              \n",
       "2021-01-01 00:00:00+00:00                   3.0                -1.0   \n",
       "2021-01-01 01:00:00+00:00                   3.0                -1.0   \n",
       "2021-01-01 02:00:00+00:00                   3.0                -1.0   \n",
       "2021-01-01 03:00:00+00:00                   2.0                -2.0   \n",
       "2021-01-01 04:00:00+00:00                   2.0                -2.0   \n",
       "\n",
       "                           forecast_weathertype  forecast_windspeed  \\\n",
       "datetime                                                              \n",
       "2021-01-01 00:00:00+00:00                   2.0                11.0   \n",
       "2021-01-01 01:00:00+00:00                   2.0                11.0   \n",
       "2021-01-01 02:00:00+00:00                   2.0                11.0   \n",
       "2021-01-01 03:00:00+00:00                   0.0                11.0   \n",
       "2021-01-01 04:00:00+00:00                   0.0                11.0   \n",
       "\n",
       "                           forecast_uvindex  \\\n",
       "datetime                                      \n",
       "2021-01-01 00:00:00+00:00               0.0   \n",
       "2021-01-01 01:00:00+00:00               0.0   \n",
       "2021-01-01 02:00:00+00:00               0.0   \n",
       "2021-01-01 03:00:00+00:00               0.0   \n",
       "2021-01-01 04:00:00+00:00               0.0   \n",
       "\n",
       "                           forecast_precipitationprobability  \\\n",
       "datetime                                                       \n",
       "2021-01-01 00:00:00+00:00                                0.0   \n",
       "2021-01-01 01:00:00+00:00                                0.0   \n",
       "2021-01-01 02:00:00+00:00                                1.0   \n",
       "2021-01-01 03:00:00+00:00                                1.0   \n",
       "2021-01-01 04:00:00+00:00                                1.0   \n",
       "\n",
       "                           forecast_winddirection  forecast_visibility  \n",
       "datetime                                                                \n",
       "2021-01-01 00:00:00+00:00                     0.0                  5.0  \n",
       "2021-01-01 01:00:00+00:00                     0.0                  5.0  \n",
       "2021-01-01 02:00:00+00:00                     0.0                  5.0  \n",
       "2021-01-01 03:00:00+00:00                   337.5                  5.0  \n",
       "2021-01-01 04:00:00+00:00                   337.5                  5.0  \n",
       "\n",
       "[5 rows x 21 columns]"
      ]
     },
     "execution_count": 3,
     "metadata": {},
     "output_type": "execute_result"
    }
   ],
   "source": [
    "data_path = \".././data/\"\n",
    "file_name = \"data.csv\"\n",
    "data = pd.read_csv(data_path + file_name)\n",
    "data = first_preprocess(data)\n",
    "data.head()"
   ]
  },
  {
   "cell_type": "code",
   "execution_count": null,
   "id": "c327f288-cfde-4e9b-bbdb-518c23ecd1a8",
   "metadata": {},
   "outputs": [],
   "source": []
  },
  {
   "cell_type": "markdown",
   "id": "18735784-ed69-49a3-8357-226c7a5d0d31",
   "metadata": {},
   "source": [
    "## Space heating"
   ]
  },
  {
   "cell_type": "markdown",
   "id": "5693feed-385f-4b89-b287-1e2d5ddd30ac",
   "metadata": {},
   "source": [
    "### Data preparation"
   ]
  },
  {
   "cell_type": "code",
   "execution_count": 11,
   "id": "5b9b9d4f-b92f-468e-ae86-21ec7d4bf1c6",
   "metadata": {},
   "outputs": [
    {
     "name": "stdout",
     "output_type": "stream",
     "text": [
      "                              columns         mean     variance  scale_factor\n",
      "0                       space_heating     0.926040     1.421735      1.192365\n",
      "1                             weekend     0.287032     0.204644      0.452376\n",
      "2                        bank_holiday     0.025174     0.024540      0.156654\n",
      "3                                hour    11.536010    47.970193      6.926052\n",
      "4                         day_of_week     2.990039     4.013675      2.003416\n",
      "5                        day_of_month    15.762889    77.705655      8.815081\n",
      "6                               month     6.521808    11.891639      3.448426\n",
      "7                                year  2022.015447     0.664677      0.815277\n",
      "8                forecast_temperature    11.858021    21.553672      4.642593\n",
      "9                  forecast_feelslike     9.363488    29.400424      5.422216\n",
      "10               forecast_weathertype     6.341504    23.529575      4.850729\n",
      "11                 forecast_windspeed    15.114042    51.377018      7.167776\n",
      "12                   forecast_uvindex     1.066923     2.560091      1.600028\n",
      "13  forecast_precipitationprobability    19.762928   740.609101     27.214134\n",
      "14             forecast_winddirection   199.178534  9256.882536     96.212694\n",
      "15                forecast_visibility     4.676822     0.703229      0.838587\n",
      "  columns      mean  variance  scale_factor\n",
      "0       y  0.925541  1.421298      1.192182\n"
     ]
    },
    {
     "data": {
      "text/plain": [
       "((19114, 17), (6587, 17))"
      ]
     },
     "execution_count": 11,
     "metadata": {},
     "output_type": "execute_result"
    }
   ],
   "source": [
    "column_name = [\"space_heating\", 'weekend', 'bank_holiday',\n",
    "       'hour', 'day_of_week', 'day_of_month', 'month', 'year',\n",
    "       'forecast_temperature', 'forecast_feelslike', 'forecast_weathertype',\n",
    "       'forecast_windspeed', 'forecast_uvindex',\n",
    "       'forecast_precipitationprobability', 'forecast_winddirection',\n",
    "       'forecast_visibility', \"y\"]\n",
    "\n",
    "# 'sine_hour', 'cos_hour', 'sine_month', 'cos_month', 'sine_day_of_week', 'cos_day_of_week'\n",
    "\n",
    "# transform the data\n",
    "sh_data = data.copy()\n",
    "sh_data[\"y\"] = sh_data[column_name[0]].shift(1)\n",
    "sh_data = sh_data.dropna(axis=0)\n",
    "sh_data_scaler, sh_transformed_data = create_std_scaler(sh_data, column_name[:-1])\n",
    "sh_target_scaler, sh_transformed_target_data = create_std_scaler(sh_data, column_name[-1])\n",
    "\n",
    "sh_transformed_data = pd.merge(sh_transformed_data, sh_transformed_target_data, left_index=True, right_index=True)\n",
    "\n",
    "# # Training and testing data for comms and services\n",
    "sh_train_data = sh_transformed_data[sh_transformed_data.index < '2023-04-01'][column_name]\n",
    "sh_test_data = sh_transformed_data[sh_transformed_data.index >= '2023-04-01'][column_name]\n",
    "sh_train_data.shape, sh_test_data.shape"
   ]
  },
  {
   "cell_type": "markdown",
   "id": "6d13c5a3-f7cc-4d32-a410-c152753bcbed",
   "metadata": {},
   "source": [
    "### Feature Selection"
   ]
  },
  {
   "cell_type": "markdown",
   "id": "d7007e00-bc72-426a-84e6-32edde423e1a",
   "metadata": {},
   "source": [
    "#### LASSO"
   ]
  },
  {
   "cell_type": "code",
   "execution_count": null,
   "id": "08e2bcad-97b0-4178-8d3b-2b8d530cb951",
   "metadata": {},
   "outputs": [],
   "source": []
  },
  {
   "cell_type": "markdown",
   "id": "ac0f4f76-b129-47e5-b27e-78d782d77c45",
   "metadata": {},
   "source": [
    "#### Recursive Feature Selection"
   ]
  },
  {
   "cell_type": "code",
   "execution_count": null,
   "id": "3e3d9ab8-bb4b-4e50-9c9b-ac79e9018abc",
   "metadata": {},
   "outputs": [],
   "source": []
  },
  {
   "cell_type": "markdown",
   "id": "b8c81ba6-0ce1-4abf-945a-eec5f9b581a0",
   "metadata": {},
   "source": [
    "#### Random Forest "
   ]
  },
  {
   "cell_type": "code",
   "execution_count": null,
   "id": "12fe19f7-51e2-4905-b389-8f9c122c0820",
   "metadata": {},
   "outputs": [],
   "source": []
  },
  {
   "cell_type": "markdown",
   "id": "212a15d7-aebc-4638-852a-9b1a7f7bc351",
   "metadata": {},
   "source": [
    "#### SHAP"
   ]
  },
  {
   "cell_type": "code",
   "execution_count": null,
   "id": "56bda8a5-97d0-46b2-8414-e7a10bc8430d",
   "metadata": {},
   "outputs": [],
   "source": []
  },
  {
   "cell_type": "markdown",
   "id": "b4027cda-c5a1-48ad-be39-f609dc22fee7",
   "metadata": {},
   "source": [
    "#### Without feature selection "
   ]
  },
  {
   "cell_type": "code",
   "execution_count": null,
   "id": "479f4b88-3138-4eb6-9f97-fa13adc019c1",
   "metadata": {},
   "outputs": [],
   "source": []
  },
  {
   "cell_type": "markdown",
   "id": "c7f7314e-4f66-493f-b7b8-68456edaff84",
   "metadata": {},
   "source": [
    "#### With feature selection"
   ]
  },
  {
   "cell_type": "code",
   "execution_count": null,
   "id": "2739f0b0-aff8-4451-a79c-d59bf4e150fe",
   "metadata": {},
   "outputs": [],
   "source": []
  },
  {
   "cell_type": "code",
   "execution_count": null,
   "id": "34bac032-db28-4e4b-ac0d-61e3c44a9230",
   "metadata": {},
   "outputs": [],
   "source": []
  }
 ],
 "metadata": {
  "kernelspec": {
   "display_name": "Python 3 (ipykernel)",
   "language": "python",
   "name": "python3"
  },
  "language_info": {
   "codemirror_mode": {
    "name": "ipython",
    "version": 3
   },
   "file_extension": ".py",
   "mimetype": "text/x-python",
   "name": "python",
   "nbconvert_exporter": "python",
   "pygments_lexer": "ipython3",
   "version": "3.11.8"
  }
 },
 "nbformat": 4,
 "nbformat_minor": 5
}
