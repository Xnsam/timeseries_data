{
 "cells": [
  {
   "cell_type": "markdown",
   "metadata": {},
   "source": [
    "Considers only the coluumns \n",
    "\"hot_water\", \"sockets\", \"lighting\""
   ]
  },
  {
   "cell_type": "code",
   "execution_count": 26,
   "metadata": {
    "id": "fpkf0z1tXcZj"
   },
   "outputs": [],
   "source": [
    "import pandas as pd\n",
    "import numpy as np\n",
    "import matplotlib.pyplot as plt\n",
    "\n",
    "from sklearn.linear_model import LinearRegression\n",
    "from sklearn.ensemble import RandomForestRegressor\n",
    "from skforecast.model_selection import backtesting_forecaster\n",
    "from skforecast.ForecasterAutoreg import ForecasterAutoreg\n",
    "\n",
    "import plotly\n",
    "import plotly.graph_objects as go\n",
    "\n",
    "\n",
    "from astral import LocationInfo\n",
    "from astral.sun import sun\n"
   ]
  },
  {
   "cell_type": "code",
   "execution_count": 27,
   "metadata": {
    "id": "koWse94rX8JI"
   },
   "outputs": [],
   "source": [
    "from custom_utils import *"
   ]
  },
  {
   "cell_type": "code",
   "execution_count": null,
   "metadata": {
    "colab": {
     "base_uri": "https://localhost:8080/",
     "height": 374
    },
    "id": "oPZWFjPfXddT",
    "outputId": "3563b52d-df16-4337-8a8c-6aacd4a4dd9c"
   },
   "outputs": [
    {
     "name": "stderr",
     "output_type": "stream",
     "text": [
      "D:\\RA_work\\timeseries_data\\notebooks\\custom_utils.py:157: FutureWarning: 'H' is deprecated and will be removed in a future version, please use 'h' instead.\n",
      "  data = data.asfreq(\"H\")\n",
      "D:\\RA_work\\timeseries_data\\notebooks\\custom_utils.py:83: FutureWarning: Series.interpolate with object dtype is deprecated and will raise in a future version. Call obj.infer_objects(copy=False) before interpolating instead.\n",
      "  data[column] = data[column].interpolate(method=\"linear\", limit_direction=\"both\")\n"
     ]
    }
   ],
   "source": [
    "data_path = \"./../data/\"\n",
    "file_name = \"data.csv\"\n",
    "data = pd.read_csv(data_path + file_name)\n",
    "data = first_preprocess(data, data_path)\n",
    "data.head()"
   ]
  },
  {
   "cell_type": "code",
   "execution_count": null,
   "metadata": {
    "colab": {
     "base_uri": "https://localhost:8080/"
    },
    "id": "uDESJoyuMIxW",
    "outputId": "9092c27e-a3de-45df-d09b-0efd89f04fef"
   },
   "outputs": [],
   "source": [
    "data.columns"
   ]
  },
  {
   "cell_type": "markdown",
   "metadata": {
    "id": "RWOOlVG4UBtU"
   },
   "source": [
    "#### Data preparation"
   ]
  },
  {
   "cell_type": "code",
   "execution_count": null,
   "metadata": {
    "colab": {
     "base_uri": "https://localhost:8080/"
    },
    "id": "9Qgm91PIZ-xO",
    "outputId": "8df41a66-9131-48e1-a220-10ad96f53a0b"
   },
   "outputs": [],
   "source": [
    "exo_columns = ['forecast_temperature', 'forecast_feelslike', 'forecast_weathertype',\n",
    "       'forecast_windspeed', 'forecast_uvindex',\n",
    "       'forecast_precipitationprobability', 'forecast_visibility',\n",
    "       'week_of_year', 'daylight_hours', 'is_daylight', 'sine_hour',\n",
    "       'cos_hour', 'sine_month', 'cos_month', 'sine_day_of_week',\n",
    "       'cos_day_of_week', 'sine_forecast_winddirection',\n",
    "       'cos_forecast_winddirection', 'sine_sunrise_hour', 'cos_sunrise_hour',\n",
    "       'sine_sunset_hour', 'cos_sunset_hour']\n",
    "endo_columns = ['weekend', 'bank_holiday', 'day_of_month', 'year', \"others\"]\n",
    "target_column = [\"y\"]\n",
    "column_name = exo_columns + endo_columns  + target_column\n",
    "test_date = '2023-04-01'\n",
    "\n",
    "# transform the data\n",
    "others_data = data.copy()\n",
    "# \"hot_water\", \"sockets\", \"lighting\"\n",
    "others_data[\"others\"] = others_data[\"hot_water\"] + others_data[\"sockets\"] + others_data[\"lighting\"]\n",
    "\n",
    "others_data[\"y\"] = others_data[\"others\"].shift(1)\n",
    "others_data = others_data.dropna(axis=0)\n",
    "\n",
    "others_data.head()\n",
    "\n",
    "others_data_scaler, others_transformed_data = create_std_scaler(others_data, column_name[:-1])\n",
    "others_target_scaler, others_transformed_target_data = create_std_scaler(others_data, column_name[-1])\n",
    "\n",
    "others_transformed_data = pd.merge(others_transformed_data, others_transformed_target_data,\n",
    "                               left_index=True,\n",
    "                               right_index=True)\n",
    "\n",
    "# # Training and testing data for comms and services\n",
    "train_data = others_transformed_data[others_transformed_data.index < test_date][column_name]\n",
    "test_data = others_transformed_data[others_transformed_data.index >= test_date][column_name]\n",
    "train_data.shape, test_data.shape"
   ]
  },
  {
   "cell_type": "markdown",
   "metadata": {
    "id": "h2eCGdz8UFKa"
   },
   "source": [
    "#### Modelling"
   ]
  },
  {
   "cell_type": "code",
   "execution_count": null,
   "metadata": {
    "id": "vBlBjBsWapE7"
   },
   "outputs": [],
   "source": [
    "params = {\n",
    "    'n_estimators': 250,\n",
    "    'criterion':  'absolute_error',\n",
    "    'max_depth': 5,\n",
    "    'max_features': \"log2\",\n",
    "    'random_state': 994564,\n",
    "    'verbose': 0\n",
    "}\n",
    "# forecaster = ForecasterAutoreg(regressor = RandomForestRegressor(**params),\n",
    "#                                lags = 24)\n",
    "\n",
    "forecaster = ForecasterAutoreg(regressor=LinearRegression(), lags=24)"
   ]
  },
  {
   "cell_type": "code",
   "execution_count": null,
   "metadata": {},
   "outputs": [],
   "source": [
    "def custom_metric(y_true, y_pred):\n",
    "    '''\n",
    "    Calculate the mean squared error using only the predicted values of the last\n",
    "    3 months of the year.\n",
    "    '''\n",
    "    return calculate_smape(actual=y_true, predicted=y_pred)"
   ]
  },
  {
   "cell_type": "code",
   "execution_count": null,
   "metadata": {
    "colab": {
     "base_uri": "https://localhost:8080/",
     "height": 373
    },
    "id": "DawqaxMzc8F4",
    "outputId": "2905fc48-9aac-4ea3-d993-44ef7ece9e30"
   },
   "outputs": [],
   "source": [
    "metric, predictions = backtesting_forecaster(\n",
    "    forecaster         = forecaster,\n",
    "    y                  = train_data['y'],\n",
    "    exog               = train_data[exo_columns + endo_columns],\n",
    "    steps              = 2,\n",
    "    metric             = custom_metric,\n",
    "    initial_train_size = train_data[train_data.index < '2023-01-01'].shape[0],\n",
    "    refit              = False,\n",
    "    n_jobs             = 'auto',\n",
    "    verbose            = False,\n",
    "    show_progress      = True\n",
    ")\n",
    "\n",
    "print(f\"Backtest error: {metric:.2f}\")\n",
    "predictions.head()"
   ]
  },
  {
   "cell_type": "code",
   "execution_count": null,
   "metadata": {
    "colab": {
     "base_uri": "https://localhost:8080/"
    },
    "id": "FYu-5nhTddCr",
    "outputId": "521413c1-fc46-464f-d05f-faa7ed108f2e"
   },
   "outputs": [],
   "source": [
    "metric"
   ]
  },
  {
   "cell_type": "code",
   "execution_count": null,
   "metadata": {
    "colab": {
     "base_uri": "https://localhost:8080/",
     "height": 238
    },
    "id": "4rxcJPnhFsyQ",
    "outputId": "6b4148d9-3690-4084-9b19-3e29da79b577"
   },
   "outputs": [],
   "source": [
    "validation = train_data[train_data.index >= \"2023-01-01\"]\n",
    "validation = validation[[\"y\"]]\n",
    "validation = pd.merge(validation, predictions, left_index=True, right_index=True)\n",
    "\n",
    "validation.head()"
   ]
  },
  {
   "cell_type": "code",
   "execution_count": null,
   "metadata": {
    "colab": {
     "base_uri": "https://localhost:8080/",
     "height": 238
    },
    "id": "uQMc2QGcRrf7",
    "outputId": "bbbfb233-f649-4e81-f33c-297671d8a1e5"
   },
   "outputs": [],
   "source": [
    "validation[[\"pred\", \"y\"]] = others_target_scaler.inverse_transform(validation[[\"pred\", \"y\"]])\n",
    "validation.head()"
   ]
  },
  {
   "cell_type": "code",
   "execution_count": null,
   "metadata": {
    "colab": {
     "base_uri": "https://localhost:8080/",
     "height": 81
    },
    "id": "mGm4Bi3NSaLa",
    "outputId": "436a3935-73e0-4928-c7cb-b1adbe0ae0af"
   },
   "outputs": [],
   "source": [
    "cal_metrics(validation[\"y\"].to_numpy(), validation[\"pred\"].to_numpy())"
   ]
  },
  {
   "cell_type": "code",
   "execution_count": null,
   "metadata": {},
   "outputs": [],
   "source": []
  }
 ],
 "metadata": {
  "colab": {
   "provenance": []
  },
  "kernelspec": {
   "display_name": "Python 3 (ipykernel)",
   "language": "python",
   "name": "python3"
  },
  "language_info": {
   "codemirror_mode": {
    "name": "ipython",
    "version": 3
   },
   "file_extension": ".py",
   "mimetype": "text/x-python",
   "name": "python",
   "nbconvert_exporter": "python",
   "pygments_lexer": "ipython3",
   "version": "3.11.8"
  },
  "widgets": {
   "application/vnd.jupyter.widget-state+json": {
    "0379001541c1465e841648f766333064": {
     "model_module": "@jupyter-widgets/controls",
     "model_module_version": "1.5.0",
     "model_name": "ProgressStyleModel",
     "state": {
      "_model_module": "@jupyter-widgets/controls",
      "_model_module_version": "1.5.0",
      "_model_name": "ProgressStyleModel",
      "_view_count": null,
      "_view_module": "@jupyter-widgets/base",
      "_view_module_version": "1.2.0",
      "_view_name": "StyleView",
      "bar_color": null,
      "description_width": ""
     }
    },
    "04004ea8688c489f9e55f5022da1ae28": {
     "model_module": "@jupyter-widgets/controls",
     "model_module_version": "1.5.0",
     "model_name": "DescriptionStyleModel",
     "state": {
      "_model_module": "@jupyter-widgets/controls",
      "_model_module_version": "1.5.0",
      "_model_name": "DescriptionStyleModel",
      "_view_count": null,
      "_view_module": "@jupyter-widgets/base",
      "_view_module_version": "1.2.0",
      "_view_name": "StyleView",
      "description_width": ""
     }
    },
    "1c4f1f51d6df4a97aa7dea1b0d2bef04": {
     "model_module": "@jupyter-widgets/controls",
     "model_module_version": "1.5.0",
     "model_name": "DescriptionStyleModel",
     "state": {
      "_model_module": "@jupyter-widgets/controls",
      "_model_module_version": "1.5.0",
      "_model_name": "DescriptionStyleModel",
      "_view_count": null,
      "_view_module": "@jupyter-widgets/base",
      "_view_module_version": "1.2.0",
      "_view_name": "StyleView",
      "description_width": ""
     }
    },
    "621fb46638544e82a1a3d4d91afa646d": {
     "model_module": "@jupyter-widgets/controls",
     "model_module_version": "1.5.0",
     "model_name": "FloatProgressModel",
     "state": {
      "_dom_classes": [],
      "_model_module": "@jupyter-widgets/controls",
      "_model_module_version": "1.5.0",
      "_model_name": "FloatProgressModel",
      "_view_count": null,
      "_view_module": "@jupyter-widgets/controls",
      "_view_module_version": "1.5.0",
      "_view_name": "ProgressView",
      "bar_style": "",
      "description": "",
      "description_tooltip": null,
      "layout": "IPY_MODEL_6f0c72df75f046919366878182aef842",
      "max": 20,
      "min": 0,
      "orientation": "horizontal",
      "style": "IPY_MODEL_0379001541c1465e841648f766333064",
      "value": 15
     }
    },
    "6661adf190a94f1f9403caddb55b454f": {
     "model_module": "@jupyter-widgets/controls",
     "model_module_version": "1.5.0",
     "model_name": "HTMLModel",
     "state": {
      "_dom_classes": [],
      "_model_module": "@jupyter-widgets/controls",
      "_model_module_version": "1.5.0",
      "_model_name": "HTMLModel",
      "_view_count": null,
      "_view_module": "@jupyter-widgets/controls",
      "_view_module_version": "1.5.0",
      "_view_name": "HTMLView",
      "description": "",
      "description_tooltip": null,
      "layout": "IPY_MODEL_e0984bcbc9494a159e9330b687e4dae6",
      "placeholder": "​",
      "style": "IPY_MODEL_04004ea8688c489f9e55f5022da1ae28",
      "value": "Best trial: 10. Best value: 0.689477:  75%"
     }
    },
    "6f0c72df75f046919366878182aef842": {
     "model_module": "@jupyter-widgets/base",
     "model_module_version": "1.2.0",
     "model_name": "LayoutModel",
     "state": {
      "_model_module": "@jupyter-widgets/base",
      "_model_module_version": "1.2.0",
      "_model_name": "LayoutModel",
      "_view_count": null,
      "_view_module": "@jupyter-widgets/base",
      "_view_module_version": "1.2.0",
      "_view_name": "LayoutView",
      "align_content": null,
      "align_items": null,
      "align_self": null,
      "border": null,
      "bottom": null,
      "display": null,
      "flex": null,
      "flex_flow": null,
      "grid_area": null,
      "grid_auto_columns": null,
      "grid_auto_flow": null,
      "grid_auto_rows": null,
      "grid_column": null,
      "grid_gap": null,
      "grid_row": null,
      "grid_template_areas": null,
      "grid_template_columns": null,
      "grid_template_rows": null,
      "height": null,
      "justify_content": null,
      "justify_items": null,
      "left": null,
      "margin": null,
      "max_height": null,
      "max_width": null,
      "min_height": null,
      "min_width": null,
      "object_fit": null,
      "object_position": null,
      "order": null,
      "overflow": null,
      "overflow_x": null,
      "overflow_y": null,
      "padding": null,
      "right": null,
      "top": null,
      "visibility": null,
      "width": null
     }
    },
    "94820bdfb4954fe98fd08961bde3a6d4": {
     "model_module": "@jupyter-widgets/base",
     "model_module_version": "1.2.0",
     "model_name": "LayoutModel",
     "state": {
      "_model_module": "@jupyter-widgets/base",
      "_model_module_version": "1.2.0",
      "_model_name": "LayoutModel",
      "_view_count": null,
      "_view_module": "@jupyter-widgets/base",
      "_view_module_version": "1.2.0",
      "_view_name": "LayoutView",
      "align_content": null,
      "align_items": null,
      "align_self": null,
      "border": null,
      "bottom": null,
      "display": null,
      "flex": null,
      "flex_flow": null,
      "grid_area": null,
      "grid_auto_columns": null,
      "grid_auto_flow": null,
      "grid_auto_rows": null,
      "grid_column": null,
      "grid_gap": null,
      "grid_row": null,
      "grid_template_areas": null,
      "grid_template_columns": null,
      "grid_template_rows": null,
      "height": null,
      "justify_content": null,
      "justify_items": null,
      "left": null,
      "margin": null,
      "max_height": null,
      "max_width": null,
      "min_height": null,
      "min_width": null,
      "object_fit": null,
      "object_position": null,
      "order": null,
      "overflow": null,
      "overflow_x": null,
      "overflow_y": null,
      "padding": null,
      "right": null,
      "top": null,
      "visibility": null,
      "width": null
     }
    },
    "9a1f4c530fd540649a4c4af9275540df": {
     "model_module": "@jupyter-widgets/controls",
     "model_module_version": "1.5.0",
     "model_name": "HTMLModel",
     "state": {
      "_dom_classes": [],
      "_model_module": "@jupyter-widgets/controls",
      "_model_module_version": "1.5.0",
      "_model_name": "HTMLModel",
      "_view_count": null,
      "_view_module": "@jupyter-widgets/controls",
      "_view_module_version": "1.5.0",
      "_view_name": "HTMLView",
      "description": "",
      "description_tooltip": null,
      "layout": "IPY_MODEL_fd6740cba27340f1be468dd877deba15",
      "placeholder": "​",
      "style": "IPY_MODEL_1c4f1f51d6df4a97aa7dea1b0d2bef04",
      "value": " 15/20 [6:38:25&lt;1:35:30, 1146.14s/it]"
     }
    },
    "e0984bcbc9494a159e9330b687e4dae6": {
     "model_module": "@jupyter-widgets/base",
     "model_module_version": "1.2.0",
     "model_name": "LayoutModel",
     "state": {
      "_model_module": "@jupyter-widgets/base",
      "_model_module_version": "1.2.0",
      "_model_name": "LayoutModel",
      "_view_count": null,
      "_view_module": "@jupyter-widgets/base",
      "_view_module_version": "1.2.0",
      "_view_name": "LayoutView",
      "align_content": null,
      "align_items": null,
      "align_self": null,
      "border": null,
      "bottom": null,
      "display": null,
      "flex": null,
      "flex_flow": null,
      "grid_area": null,
      "grid_auto_columns": null,
      "grid_auto_flow": null,
      "grid_auto_rows": null,
      "grid_column": null,
      "grid_gap": null,
      "grid_row": null,
      "grid_template_areas": null,
      "grid_template_columns": null,
      "grid_template_rows": null,
      "height": null,
      "justify_content": null,
      "justify_items": null,
      "left": null,
      "margin": null,
      "max_height": null,
      "max_width": null,
      "min_height": null,
      "min_width": null,
      "object_fit": null,
      "object_position": null,
      "order": null,
      "overflow": null,
      "overflow_x": null,
      "overflow_y": null,
      "padding": null,
      "right": null,
      "top": null,
      "visibility": null,
      "width": null
     }
    },
    "fa15a9b27e424db8bbf2605147ac7cc4": {
     "model_module": "@jupyter-widgets/controls",
     "model_module_version": "1.5.0",
     "model_name": "HBoxModel",
     "state": {
      "_dom_classes": [],
      "_model_module": "@jupyter-widgets/controls",
      "_model_module_version": "1.5.0",
      "_model_name": "HBoxModel",
      "_view_count": null,
      "_view_module": "@jupyter-widgets/controls",
      "_view_module_version": "1.5.0",
      "_view_name": "HBoxView",
      "box_style": "",
      "children": [
       "IPY_MODEL_6661adf190a94f1f9403caddb55b454f",
       "IPY_MODEL_621fb46638544e82a1a3d4d91afa646d",
       "IPY_MODEL_9a1f4c530fd540649a4c4af9275540df"
      ],
      "layout": "IPY_MODEL_94820bdfb4954fe98fd08961bde3a6d4"
     }
    },
    "fd6740cba27340f1be468dd877deba15": {
     "model_module": "@jupyter-widgets/base",
     "model_module_version": "1.2.0",
     "model_name": "LayoutModel",
     "state": {
      "_model_module": "@jupyter-widgets/base",
      "_model_module_version": "1.2.0",
      "_model_name": "LayoutModel",
      "_view_count": null,
      "_view_module": "@jupyter-widgets/base",
      "_view_module_version": "1.2.0",
      "_view_name": "LayoutView",
      "align_content": null,
      "align_items": null,
      "align_self": null,
      "border": null,
      "bottom": null,
      "display": null,
      "flex": null,
      "flex_flow": null,
      "grid_area": null,
      "grid_auto_columns": null,
      "grid_auto_flow": null,
      "grid_auto_rows": null,
      "grid_column": null,
      "grid_gap": null,
      "grid_row": null,
      "grid_template_areas": null,
      "grid_template_columns": null,
      "grid_template_rows": null,
      "height": null,
      "justify_content": null,
      "justify_items": null,
      "left": null,
      "margin": null,
      "max_height": null,
      "max_width": null,
      "min_height": null,
      "min_width": null,
      "object_fit": null,
      "object_position": null,
      "order": null,
      "overflow": null,
      "overflow_x": null,
      "overflow_y": null,
      "padding": null,
      "right": null,
      "top": null,
      "visibility": null,
      "width": null
     }
    }
   }
  }
 },
 "nbformat": 4,
 "nbformat_minor": 4
}
