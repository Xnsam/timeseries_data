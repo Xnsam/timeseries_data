{
 "cells": [
  {
   "cell_type": "code",
   "execution_count": 1,
   "id": "285f5041-4d76-49de-8bcd-7310b6181495",
   "metadata": {},
   "outputs": [],
   "source": [
    "import pandas as pd\n",
    "import numpy as np\n",
    "import matplotlib.pyplot as plt\n",
    "\n",
    "from sklearn.linear_model import LinearRegression\n",
    "from custom_utils import *\n",
    "\n",
    "import plotly\n",
    "import plotly.graph_objects as go\n"
   ]
  },
  {
   "cell_type": "code",
   "execution_count": 2,
   "id": "8baaca0c-9a51-4822-8469-32531f6cf562",
   "metadata": {},
   "outputs": [],
   "source": [
    "np.random.seed(90)"
   ]
  },
  {
   "cell_type": "code",
   "execution_count": 3,
   "id": "2b69ce52-9961-4bec-8449-592a7c2cf033",
   "metadata": {},
   "outputs": [
    {
     "data": {
      "text/html": [
       "<div>\n",
       "<style scoped>\n",
       "    .dataframe tbody tr th:only-of-type {\n",
       "        vertical-align: middle;\n",
       "    }\n",
       "\n",
       "    .dataframe tbody tr th {\n",
       "        vertical-align: top;\n",
       "    }\n",
       "\n",
       "    .dataframe thead th {\n",
       "        text-align: right;\n",
       "    }\n",
       "</style>\n",
       "<table border=\"1\" class=\"dataframe\">\n",
       "  <thead>\n",
       "    <tr style=\"text-align: right;\">\n",
       "      <th></th>\n",
       "      <th>time</th>\n",
       "      <th>Comms and Services</th>\n",
       "      <th>Space Heating</th>\n",
       "      <th>Hot Water</th>\n",
       "      <th>Sockets</th>\n",
       "      <th>Lighting</th>\n",
       "      <th>Bld_EngCons</th>\n",
       "      <th>Car Chargers</th>\n",
       "      <th>weekend</th>\n",
       "      <th>bank holiday</th>\n",
       "      <th>...</th>\n",
       "      <th>forecastperiod</th>\n",
       "      <th>forecast_temperature</th>\n",
       "      <th>forecast_feelslike</th>\n",
       "      <th>forecast_weathertype</th>\n",
       "      <th>forecast_windspeed</th>\n",
       "      <th>forecast_uvindex</th>\n",
       "      <th>forecast_precipitationprobability</th>\n",
       "      <th>forecast_winddirection</th>\n",
       "      <th>forecast_visibility</th>\n",
       "      <th>forecast_interval</th>\n",
       "    </tr>\n",
       "  </thead>\n",
       "  <tbody>\n",
       "    <tr>\n",
       "      <th>0</th>\n",
       "      <td>2019-04-01 00:00:00+00</td>\n",
       "      <td>0.515253</td>\n",
       "      <td>0.856489</td>\n",
       "      <td>0.000000</td>\n",
       "      <td>0.051467</td>\n",
       "      <td>0.124797</td>\n",
       "      <td>1.548006</td>\n",
       "      <td>0.032239</td>\n",
       "      <td>False</td>\n",
       "      <td>False</td>\n",
       "      <td>...</td>\n",
       "      <td>NaN</td>\n",
       "      <td>NaN</td>\n",
       "      <td>NaN</td>\n",
       "      <td>NaN</td>\n",
       "      <td>NaN</td>\n",
       "      <td>NaN</td>\n",
       "      <td>NaN</td>\n",
       "      <td>NaN</td>\n",
       "      <td>NaN</td>\n",
       "      <td>NaN</td>\n",
       "    </tr>\n",
       "    <tr>\n",
       "      <th>1</th>\n",
       "      <td>2019-04-01 01:00:00+00</td>\n",
       "      <td>0.687381</td>\n",
       "      <td>0.786147</td>\n",
       "      <td>0.085386</td>\n",
       "      <td>0.050931</td>\n",
       "      <td>0.151708</td>\n",
       "      <td>1.761553</td>\n",
       "      <td>0.042894</td>\n",
       "      <td>False</td>\n",
       "      <td>False</td>\n",
       "      <td>...</td>\n",
       "      <td>NaN</td>\n",
       "      <td>NaN</td>\n",
       "      <td>NaN</td>\n",
       "      <td>NaN</td>\n",
       "      <td>NaN</td>\n",
       "      <td>NaN</td>\n",
       "      <td>NaN</td>\n",
       "      <td>NaN</td>\n",
       "      <td>NaN</td>\n",
       "      <td>NaN</td>\n",
       "    </tr>\n",
       "    <tr>\n",
       "      <th>2</th>\n",
       "      <td>2019-04-01 02:00:00+00</td>\n",
       "      <td>0.687678</td>\n",
       "      <td>3.530669</td>\n",
       "      <td>0.099239</td>\n",
       "      <td>0.055706</td>\n",
       "      <td>0.151233</td>\n",
       "      <td>4.524525</td>\n",
       "      <td>0.043100</td>\n",
       "      <td>False</td>\n",
       "      <td>False</td>\n",
       "      <td>...</td>\n",
       "      <td>NaN</td>\n",
       "      <td>NaN</td>\n",
       "      <td>NaN</td>\n",
       "      <td>NaN</td>\n",
       "      <td>NaN</td>\n",
       "      <td>NaN</td>\n",
       "      <td>NaN</td>\n",
       "      <td>NaN</td>\n",
       "      <td>NaN</td>\n",
       "      <td>NaN</td>\n",
       "    </tr>\n",
       "    <tr>\n",
       "      <th>3</th>\n",
       "      <td>2019-04-01 03:00:00+00</td>\n",
       "      <td>0.690139</td>\n",
       "      <td>4.044003</td>\n",
       "      <td>0.098467</td>\n",
       "      <td>0.050019</td>\n",
       "      <td>0.151436</td>\n",
       "      <td>5.034064</td>\n",
       "      <td>0.043131</td>\n",
       "      <td>False</td>\n",
       "      <td>False</td>\n",
       "      <td>...</td>\n",
       "      <td>NaN</td>\n",
       "      <td>NaN</td>\n",
       "      <td>NaN</td>\n",
       "      <td>NaN</td>\n",
       "      <td>NaN</td>\n",
       "      <td>NaN</td>\n",
       "      <td>NaN</td>\n",
       "      <td>NaN</td>\n",
       "      <td>NaN</td>\n",
       "      <td>NaN</td>\n",
       "    </tr>\n",
       "    <tr>\n",
       "      <th>4</th>\n",
       "      <td>2019-04-01 04:00:00+00</td>\n",
       "      <td>0.687081</td>\n",
       "      <td>4.223769</td>\n",
       "      <td>0.091533</td>\n",
       "      <td>0.050142</td>\n",
       "      <td>0.151331</td>\n",
       "      <td>5.203856</td>\n",
       "      <td>0.043031</td>\n",
       "      <td>False</td>\n",
       "      <td>False</td>\n",
       "      <td>...</td>\n",
       "      <td>NaN</td>\n",
       "      <td>NaN</td>\n",
       "      <td>NaN</td>\n",
       "      <td>NaN</td>\n",
       "      <td>NaN</td>\n",
       "      <td>NaN</td>\n",
       "      <td>NaN</td>\n",
       "      <td>NaN</td>\n",
       "      <td>NaN</td>\n",
       "      <td>NaN</td>\n",
       "    </tr>\n",
       "  </tbody>\n",
       "</table>\n",
       "<p>5 rows × 26 columns</p>\n",
       "</div>"
      ],
      "text/plain": [
       "                     time  Comms and Services  Space Heating  Hot Water  \\\n",
       "0  2019-04-01 00:00:00+00            0.515253       0.856489   0.000000   \n",
       "1  2019-04-01 01:00:00+00            0.687381       0.786147   0.085386   \n",
       "2  2019-04-01 02:00:00+00            0.687678       3.530669   0.099239   \n",
       "3  2019-04-01 03:00:00+00            0.690139       4.044003   0.098467   \n",
       "4  2019-04-01 04:00:00+00            0.687081       4.223769   0.091533   \n",
       "\n",
       "    Sockets  Lighting  Bld_EngCons  Car Chargers  weekend  bank holiday  ...  \\\n",
       "0  0.051467  0.124797     1.548006      0.032239    False         False  ...   \n",
       "1  0.050931  0.151708     1.761553      0.042894    False         False  ...   \n",
       "2  0.055706  0.151233     4.524525      0.043100    False         False  ...   \n",
       "3  0.050019  0.151436     5.034064      0.043131    False         False  ...   \n",
       "4  0.050142  0.151331     5.203856      0.043031    False         False  ...   \n",
       "\n",
       "   forecastperiod  forecast_temperature  forecast_feelslike  \\\n",
       "0             NaN                   NaN                 NaN   \n",
       "1             NaN                   NaN                 NaN   \n",
       "2             NaN                   NaN                 NaN   \n",
       "3             NaN                   NaN                 NaN   \n",
       "4             NaN                   NaN                 NaN   \n",
       "\n",
       "   forecast_weathertype  forecast_windspeed forecast_uvindex  \\\n",
       "0                   NaN                 NaN              NaN   \n",
       "1                   NaN                 NaN              NaN   \n",
       "2                   NaN                 NaN              NaN   \n",
       "3                   NaN                 NaN              NaN   \n",
       "4                   NaN                 NaN              NaN   \n",
       "\n",
       "  forecast_precipitationprobability  forecast_winddirection  \\\n",
       "0                               NaN                     NaN   \n",
       "1                               NaN                     NaN   \n",
       "2                               NaN                     NaN   \n",
       "3                               NaN                     NaN   \n",
       "4                               NaN                     NaN   \n",
       "\n",
       "   forecast_visibility  forecast_interval  \n",
       "0                  NaN                NaN  \n",
       "1                  NaN                NaN  \n",
       "2                  NaN                NaN  \n",
       "3                  NaN                NaN  \n",
       "4                  NaN                NaN  \n",
       "\n",
       "[5 rows x 26 columns]"
      ]
     },
     "execution_count": 3,
     "metadata": {},
     "output_type": "execute_result"
    }
   ],
   "source": [
    "data_path = \".././data/\"\n",
    "file_name = \"data.csv\"\n",
    "data = pd.read_csv(data_path + file_name)\n",
    "data.head()"
   ]
  },
  {
   "cell_type": "code",
   "execution_count": 4,
   "id": "50df587b-34e6-4a3c-80c4-855d68893e05",
   "metadata": {},
   "outputs": [],
   "source": [
    "data = first_preprocess(data)"
   ]
  },
  {
   "cell_type": "code",
   "execution_count": 5,
   "id": "56f4cd4c-15b7-45f0-afd2-7e4b5aea067c",
   "metadata": {},
   "outputs": [],
   "source": [
    "data[\"bld_engcons\"] = data[\"bld_engcons\"] - data[\"comms_and_services\"]"
   ]
  },
  {
   "cell_type": "code",
   "execution_count": 6,
   "id": "e97b575f-2ed1-4e95-9df9-2a2a7b9d01a1",
   "metadata": {},
   "outputs": [
    {
     "data": {
      "text/html": [
       "<div>\n",
       "<style scoped>\n",
       "    .dataframe tbody tr th:only-of-type {\n",
       "        vertical-align: middle;\n",
       "    }\n",
       "\n",
       "    .dataframe tbody tr th {\n",
       "        vertical-align: top;\n",
       "    }\n",
       "\n",
       "    .dataframe thead th {\n",
       "        text-align: right;\n",
       "    }\n",
       "</style>\n",
       "<table border=\"1\" class=\"dataframe\">\n",
       "  <thead>\n",
       "    <tr style=\"text-align: right;\">\n",
       "      <th></th>\n",
       "      <th>bld_engcons</th>\n",
       "    </tr>\n",
       "    <tr>\n",
       "      <th>time</th>\n",
       "      <th></th>\n",
       "    </tr>\n",
       "  </thead>\n",
       "  <tbody>\n",
       "    <tr>\n",
       "      <th>2021-01-01 00:00:00+00</th>\n",
       "      <td>3.629499</td>\n",
       "    </tr>\n",
       "    <tr>\n",
       "      <th>2021-01-01 01:00:00+00</th>\n",
       "      <td>4.215506</td>\n",
       "    </tr>\n",
       "    <tr>\n",
       "      <th>2021-01-01 02:00:00+00</th>\n",
       "      <td>5.994066</td>\n",
       "    </tr>\n",
       "    <tr>\n",
       "      <th>2021-01-01 03:00:00+00</th>\n",
       "      <td>5.954252</td>\n",
       "    </tr>\n",
       "    <tr>\n",
       "      <th>2021-01-01 04:00:00+00</th>\n",
       "      <td>5.620296</td>\n",
       "    </tr>\n",
       "  </tbody>\n",
       "</table>\n",
       "</div>"
      ],
      "text/plain": [
       "                        bld_engcons\n",
       "time                               \n",
       "2021-01-01 00:00:00+00     3.629499\n",
       "2021-01-01 01:00:00+00     4.215506\n",
       "2021-01-01 02:00:00+00     5.994066\n",
       "2021-01-01 03:00:00+00     5.954252\n",
       "2021-01-01 04:00:00+00     5.620296"
      ]
     },
     "execution_count": 6,
     "metadata": {},
     "output_type": "execute_result"
    }
   ],
   "source": [
    "data = data[[\"bld_engcons\"]]\n",
    "data.head()"
   ]
  },
  {
   "cell_type": "code",
   "execution_count": 7,
   "id": "ee85d187-3fa2-4ec3-80d0-8dad50966183",
   "metadata": {},
   "outputs": [
    {
     "name": "stdout",
     "output_type": "stream",
     "text": [
      "       columns      mean  variance  scale_factor\n",
      "0  bld_engcons  1.427945  1.819023      1.348712\n"
     ]
    },
    {
     "data": {
      "text/html": [
       "<div>\n",
       "<style scoped>\n",
       "    .dataframe tbody tr th:only-of-type {\n",
       "        vertical-align: middle;\n",
       "    }\n",
       "\n",
       "    .dataframe tbody tr th {\n",
       "        vertical-align: top;\n",
       "    }\n",
       "\n",
       "    .dataframe thead th {\n",
       "        text-align: right;\n",
       "    }\n",
       "</style>\n",
       "<table border=\"1\" class=\"dataframe\">\n",
       "  <thead>\n",
       "    <tr style=\"text-align: right;\">\n",
       "      <th></th>\n",
       "      <th>bld_engcons</th>\n",
       "    </tr>\n",
       "    <tr>\n",
       "      <th>time</th>\n",
       "      <th></th>\n",
       "    </tr>\n",
       "  </thead>\n",
       "  <tbody>\n",
       "    <tr>\n",
       "      <th>2021-01-01 00:00:00+00</th>\n",
       "      <td>1.632338</td>\n",
       "    </tr>\n",
       "    <tr>\n",
       "      <th>2021-01-01 01:00:00+00</th>\n",
       "      <td>2.066833</td>\n",
       "    </tr>\n",
       "    <tr>\n",
       "      <th>2021-01-01 02:00:00+00</th>\n",
       "      <td>3.385543</td>\n",
       "    </tr>\n",
       "    <tr>\n",
       "      <th>2021-01-01 03:00:00+00</th>\n",
       "      <td>3.356023</td>\n",
       "    </tr>\n",
       "    <tr>\n",
       "      <th>2021-01-01 04:00:00+00</th>\n",
       "      <td>3.108412</td>\n",
       "    </tr>\n",
       "  </tbody>\n",
       "</table>\n",
       "</div>"
      ],
      "text/plain": [
       "                        bld_engcons\n",
       "time                               \n",
       "2021-01-01 00:00:00+00     1.632338\n",
       "2021-01-01 01:00:00+00     2.066833\n",
       "2021-01-01 02:00:00+00     3.385543\n",
       "2021-01-01 03:00:00+00     3.356023\n",
       "2021-01-01 04:00:00+00     3.108412"
      ]
     },
     "execution_count": 7,
     "metadata": {},
     "output_type": "execute_result"
    }
   ],
   "source": [
    "data_scaler, transformed_data = create_std_scaler(data, \"bld_engcons\")\n",
    "transformed_data.head()"
   ]
  },
  {
   "cell_type": "code",
   "execution_count": 8,
   "id": "7d11482f-a2e6-4472-8ccc-78116066bbee",
   "metadata": {},
   "outputs": [],
   "source": [
    "transformed_data = transformed_data.rename(columns={\"bld_engcons\":  \"x\"})\n",
    "transformed_data[\"x-1\"] = transformed_data[\"x\"].shift(-1)\n",
    "transformed_data[\"x-2\"] = transformed_data[\"x\"].shift(-2)\n",
    "transformed_data[\"x-3\"] = transformed_data[\"x\"].shift(-3)\n",
    "transformed_data[\"x-4\"] = transformed_data[\"x\"].shift(-4)\n",
    "transformed_data[\"x-5\"] = transformed_data[\"x\"].shift(-5)\n",
    "transformed_data[\"y\"] = transformed_data[\"x\"].shift(-6)"
   ]
  },
  {
   "cell_type": "code",
   "execution_count": 9,
   "id": "1a343c88-2378-4610-b816-42acadf466d6",
   "metadata": {},
   "outputs": [
    {
     "data": {
      "text/plain": [
       "x      0\n",
       "x-1    0\n",
       "x-2    0\n",
       "x-3    0\n",
       "x-4    0\n",
       "x-5    0\n",
       "y      0\n",
       "dtype: int64"
      ]
     },
     "execution_count": 9,
     "metadata": {},
     "output_type": "execute_result"
    }
   ],
   "source": [
    "transformed_data = transformed_data.dropna()\n",
    "transformed_data.isna().sum()"
   ]
  },
  {
   "cell_type": "code",
   "execution_count": 10,
   "id": "3a0798eb-a7df-411e-80de-d84053b3d3b7",
   "metadata": {},
   "outputs": [
    {
     "data": {
      "text/plain": [
       "((18979, 7), (6542, 7))"
      ]
     },
     "execution_count": 10,
     "metadata": {},
     "output_type": "execute_result"
    }
   ],
   "source": [
    "train_data = transformed_data[transformed_data.index < \"2023-04-01\"]\n",
    "test_data = transformed_data[transformed_data.index >= \"2023-04-01\"]\n",
    "\n",
    "train_data.shape, test_data.shape"
   ]
  },
  {
   "cell_type": "code",
   "execution_count": 11,
   "id": "a0e0e43d-acef-499d-bcd6-1caef713e700",
   "metadata": {},
   "outputs": [],
   "source": [
    "from sklearn.ensemble import RandomForestRegressor"
   ]
  },
  {
   "cell_type": "code",
   "execution_count": 12,
   "id": "631b9f0a-c88f-47a8-9f94-10ab834f2478",
   "metadata": {},
   "outputs": [],
   "source": [
    "column_name = train_data.columns.tolist()"
   ]
  },
  {
   "cell_type": "code",
   "execution_count": null,
   "id": "db550c90-e5b4-4936-81fe-4a970ec2e662",
   "metadata": {},
   "outputs": [],
   "source": [
    "rf_reg = RandomForestRegressor(n_estimators=250, criterion=\"absolute_error\")\n",
    "rf_reg_fit = rf_reg.fit(train_data[column_name[:-1]], train_data[column_name[-1]])"
   ]
  },
  {
   "cell_type": "code",
   "execution_count": null,
   "id": "066e8013-597b-489f-a125-e132e85c2d35",
   "metadata": {},
   "outputs": [],
   "source": [
    "test_data[\"predictions\"] = rf_reg_fit.predict(test_data[column_name[:-1]])\n",
    "test_data[\"predictions\"].head()"
   ]
  },
  {
   "cell_type": "code",
   "execution_count": null,
   "id": "7dc995a0-351b-4901-9825-e0dec7220e42",
   "metadata": {},
   "outputs": [],
   "source": [
    "pred_cols = [\"predictions\", \"y\"]\n",
    "plot_data = test_data[pred_cols]\n",
    "plot_data[pred_cols] = data_scaler.inverse_transform(plot_data[pred_cols])"
   ]
  },
  {
   "cell_type": "code",
   "execution_count": null,
   "id": "550fdaec-6cd3-4ae6-94ec-931db03821d4",
   "metadata": {},
   "outputs": [],
   "source": [
    "cal_metrics(plot_data[\"y\"].to_numpy(), plot_data[\"predictions\"].to_numpy())"
   ]
  },
  {
   "cell_type": "code",
   "execution_count": null,
   "id": "8c9d93ef-c95b-40f6-890e-617c453031b6",
   "metadata": {},
   "outputs": [],
   "source": [
    "plot_data = plot_data.reset_index(drop=0)"
   ]
  },
  {
   "cell_type": "code",
   "execution_count": null,
   "id": "bed305db-972d-48ff-94c6-5daae0e1b4a3",
   "metadata": {},
   "outputs": [],
   "source": [
    "fig = go.Figure()\n",
    "fig.add_trace(go.Scatter(x=plot_data[\"time\"].to_numpy(), y=plot_data[\"y\"].to_numpy(),\n",
    "                    mode='lines+markers',\n",
    "                    name='actual'))\n",
    "fig.add_trace(go.Scatter(x=plot_data[\"time\"].to_numpy(), y=plot_data[\"predictions\"].to_numpy(),\n",
    "                    mode='lines+markers',\n",
    "                    name='linear regression predictions'))\n",
    "fig.update_layout(title_text=\"Composite model  with lag variables : Test data\")\n",
    "fig.show()"
   ]
  },
  {
   "cell_type": "code",
   "execution_count": null,
   "id": "d5dadfe0-e55e-40a6-be26-e8add1b1e137",
   "metadata": {},
   "outputs": [],
   "source": []
  }
 ],
 "metadata": {
  "kernelspec": {
   "display_name": "Python 3 (ipykernel)",
   "language": "python",
   "name": "python3"
  },
  "language_info": {
   "codemirror_mode": {
    "name": "ipython",
    "version": 3
   },
   "file_extension": ".py",
   "mimetype": "text/x-python",
   "name": "python",
   "nbconvert_exporter": "python",
   "pygments_lexer": "ipython3",
   "version": "3.11.8"
  }
 },
 "nbformat": 4,
 "nbformat_minor": 5
}
